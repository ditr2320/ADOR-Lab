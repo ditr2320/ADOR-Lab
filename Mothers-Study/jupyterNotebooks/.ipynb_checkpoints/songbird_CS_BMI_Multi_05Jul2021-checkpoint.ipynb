{
 "cells": [
  {
   "cell_type": "code",
   "execution_count": 1,
   "metadata": {},
   "outputs": [
    {
     "name": "stdout",
     "output_type": "stream",
     "text": [
      "\u001b[32mSaved FeatureData[Differential] to: mm_differentials-BMI_1m_full.qza\u001b[0m\n",
      "\u001b[32mSaved SampleData[SongbirdStats] to: mm_regression-BMI_1m_full.qza\u001b[0m\n",
      "\u001b[32mSaved PCoAResults % Properties('biplot') to: mm_biplot-BMI_1m_full.qza\u001b[0m\n"
     ]
    }
   ],
   "source": [
    "# Simple univariate model 1m \n",
    "!qiime songbird multinomial \\\n",
    "--i-table mm_seqs_noblank_mom_1m.qza \\\n",
    "--m-metadata-file songbirdData_1m.txt \\\n",
    "--p-formula \"mom_BMI+mother_age+exercise_r+SES_r+m_ener_Mom\" \\\n",
    "--p-epochs 10000 \\\n",
    "--p-differential-prior 0.5 \\\n",
    "--p-summary-interval 1 \\\n",
    "--o-differentials mm_differentials-BMI_1m_full.qza \\\n",
    "--o-regression-stats mm_regression-BMI_1m_full.qza \\\n",
    "--o-regression-biplot mm_biplot-BMI_1m_full.qza"
   ]
  },
  {
   "cell_type": "code",
   "execution_count": 2,
   "metadata": {},
   "outputs": [
    {
     "name": "stdout",
     "output_type": "stream",
     "text": [
      "\u001b[32mSaved FeatureData[Differential] to: mm_differentials-BMI_6m_full.qza\u001b[0m\n",
      "\u001b[32mSaved SampleData[SongbirdStats] to: mm_regression-BMI_6m_full.qza\u001b[0m\n",
      "\u001b[32mSaved PCoAResults % Properties('biplot') to: mm_biplot-BMI_6m_full.qza\u001b[0m\n"
     ]
    }
   ],
   "source": [
    "# Simple univariate model 6m \n",
    "!qiime songbird multinomial \\\n",
    "--i-table mm_seqs_noblank_mom_6m.qza \\\n",
    "--m-metadata-file songbirdData_6m.txt \\\n",
    "--p-formula \"mom_BMI+mother_age+exercise_r+SES_r+m_ener_Mom\" \\\n",
    "--p-epochs 10000 \\\n",
    "--p-differential-prior 0.5 \\\n",
    "--p-summary-interval 1 \\\n",
    "--o-differentials mm_differentials-BMI_6m_full.qza \\\n",
    "--o-regression-stats mm_regression-BMI_6m_full.qza \\\n",
    "--o-regression-biplot mm_biplot-BMI_6m_full.qza\n"
   ]
  },
  {
   "cell_type": "code",
   "execution_count": 3,
   "metadata": {},
   "outputs": [
    {
     "name": "stdout",
     "output_type": "stream",
     "text": [
      "\u001b[32mSaved FeatureData[Differential] to: null-diff-BMI_1m_full.qza\u001b[0m\n",
      "\u001b[32mSaved SampleData[SongbirdStats] to: null-stats-BMI_1m_full.qza\u001b[0m\n",
      "\u001b[32mSaved PCoAResults % Properties('biplot') to: null-biplot-BMI_1m_full.qza\u001b[0m\n"
     ]
    }
   ],
   "source": [
    "# NULL model 1m \n",
    "!qiime songbird multinomial \\\n",
    "--i-table mm_seqs_noblank_mom_1m.qza \\\n",
    "--m-metadata-file songbirdData_1m.txt \\\n",
    "--p-formula \"1\" \\\n",
    "--p-epochs 10000 \\\n",
    "--p-differential-prior 0.5 \\\n",
    "--p-summary-interval 1 \\\n",
    "--o-differentials null-diff-BMI_1m_full.qza \\\n",
    "--o-regression-stats null-stats-BMI_1m_full.qza \\\n",
    "--o-regression-biplot null-biplot-BMI_1m_full.qza\n"
   ]
  },
  {
   "cell_type": "code",
   "execution_count": 4,
   "metadata": {},
   "outputs": [
    {
     "name": "stdout",
     "output_type": "stream",
     "text": [
      "\u001b[32mSaved FeatureData[Differential] to: null-diff-BMI_6m_full.qza\u001b[0m\n",
      "\u001b[32mSaved SampleData[SongbirdStats] to: null-stats-BMI_6m_full.qza\u001b[0m\n",
      "\u001b[32mSaved PCoAResults % Properties('biplot') to: null-biplot-BMI_6m_full.qza\u001b[0m\n"
     ]
    }
   ],
   "source": [
    "#NULL model 6m \n",
    "!qiime songbird multinomial \\\n",
    "--i-table mm_seqs_noblank_mom_6m.qza \\\n",
    "--m-metadata-file songbirdData_6m.txt \\\n",
    "--p-formula \"1\" \\\n",
    "--p-epochs 10000 \\\n",
    "--p-differential-prior 0.5 \\\n",
    "--p-summary-interval 1 \\\n",
    "--o-differentials null-diff-BMI_6m_full.qza \\\n",
    "--o-regression-stats null-stats-BMI_6m_full.qza \\\n",
    "--o-regression-biplot null-biplot-BMI_6m_full.qza"
   ]
  },
  {
   "cell_type": "code",
   "execution_count": 5,
   "metadata": {},
   "outputs": [
    {
     "name": "stdout",
     "output_type": "stream",
     "text": [
      "\u001b[32mSaved Visualization to: paired-summary-uni-vs-null-BMI_1m_full.qzv\u001b[0m\n",
      "\u001b[32mSaved Visualization to: paired-summary-uni-vs-null-BMI_6m_full.qzv\u001b[0m\n"
     ]
    }
   ],
   "source": [
    "#1m \n",
    "!qiime songbird summarize-paired \\\n",
    "--i-regression-stats mm_regression-BMI_1m_full.qza \\\n",
    "--i-baseline-stats null-stats-BMI_1m_full.qza \\\n",
    "--o-visualization paired-summary-uni-vs-null-BMI_1m_full.qzv\n",
    "\n",
    "#6m\n",
    "!qiime songbird summarize-paired \\\n",
    "--i-regression-stats mm_regression-BMI_6m_full.qza \\\n",
    "--i-baseline-stats null-stats-BMI_6m_full.qza \\\n",
    "--o-visualization paired-summary-uni-vs-null-BMI_6m_full.qzv"
   ]
  },
  {
   "cell_type": "code",
   "execution_count": 6,
   "metadata": {},
   "outputs": [
    {
     "name": "stdout",
     "output_type": "stream",
     "text": [
      "\u001b[32mSaved Visualization to: mm_regression-BMI_1m_full.qzv\u001b[0m\n",
      "\u001b[32mSaved Visualization to: mm_regression-BMI_6m_full.qzv\u001b[0m\n"
     ]
    }
   ],
   "source": [
    "!qiime songbird summarize-single \\\n",
    "--i-regression-stats mm_regression-BMI_1m_full.qza \\\n",
    "--o-visualization mm_regression-BMI_1m_full.qzv\n",
    "\n",
    "!qiime songbird summarize-single \\\n",
    "--i-regression-stats mm_regression-BMI_6m_full.qza \\\n",
    "--o-visualization mm_regression-BMI_6m_full.qzv"
   ]
  },
  {
   "cell_type": "code",
   "execution_count": 7,
   "metadata": {},
   "outputs": [
    {
     "name": "stdout",
     "output_type": "stream",
     "text": [
      "\u001b[32mSaved Visualization to: qurro-plot-BMI_1m_full.qzv\u001b[0m\n",
      "\u001b[32mSaved Visualization to: qurro-plot-BMI_6m_full.qzv\u001b[0m\n"
     ]
    }
   ],
   "source": [
    "# Visualize using qurro \n",
    "!qiime qurro differential-plot \\\n",
    "    --i-table mm_seqs_noblank_mom_1m.qza \\\n",
    "    --i-ranks mm_differentials-BMI_1m_full.qza \\\n",
    "    --m-sample-metadata-file songbirdData_1m.txt \\\n",
    "    --m-feature-metadata-file deblur-sequences-taxonomy-MM.qza \\\n",
    "    --o-visualization qurro-plot-BMI_1m_full.qzv\n",
    "\n",
    "!qiime qurro differential-plot \\\n",
    "    --i-table mm_seqs_noblank_mom_6m.qza \\\n",
    "    --i-ranks mm_differentials-BMI_6m_full.qza \\\n",
    "    --m-sample-metadata-file songbirdData_6m.txt \\\n",
    "    --m-feature-metadata-file deblur-sequences-taxonomy-MM.qza \\\n",
    "    --o-visualization qurro-plot-BMI_6m_full.qzv"
   ]
  },
  {
   "cell_type": "code",
   "execution_count": 8,
   "metadata": {},
   "outputs": [
    {
     "name": "stdout",
     "output_type": "stream",
     "text": [
      "\u001b[32mSaved Visualization to: emperor-biplot-BMI_1m_full.qzv\u001b[0m\n",
      "\u001b[32mSaved Visualization to: emperor-biplot-BMI_6m_full.qzv\u001b[0m\n"
     ]
    }
   ],
   "source": [
    "# Visulaizing biplot in emperor\n",
    "!qiime emperor biplot \\\n",
    "--i-biplot mm_biplot-BMI_1m_full.qza \\\n",
    "--m-sample-metadata-file deblur-sequences-taxonomy-MM.qza \\\n",
    "--p-ignore-missing-samples \\\n",
    "--p-number-of-features 2 \\\n",
    "--o-visualization emperor-biplot-BMI_1m_full\n",
    "\n",
    "!qiime emperor biplot \\\n",
    "--i-biplot mm_biplot-BMI_6m_full.qza \\\n",
    "--m-sample-metadata-file deblur-sequences-taxonomy-MM.qza \\\n",
    "--p-ignore-missing-samples \\\n",
    "--p-number-of-features 2 \\\n",
    "--o-visualization emperor-biplot-BMI_6m_full"
   ]
  },
  {
   "cell_type": "code",
   "execution_count": 9,
   "metadata": {},
   "outputs": [
    {
     "name": "stdout",
     "output_type": "stream",
     "text": [
      "\u001b[32mExported mm_differentials-BMI_1m_full.qza as DifferentialDirectoryFormat to directory mm_differentials-BMI_1m_full\u001b[0m\n",
      "\u001b[32mExported mm_differentials-BMI_6m_full.qza as DifferentialDirectoryFormat to directory mm_differentials-BMI_6m_full\u001b[0m\n"
     ]
    }
   ],
   "source": [
    "# Output differentials from Songbird\n",
    "!qiime tools export \\\n",
    "  --input-path mm_differentials-BMI_1m_full.qza \\\n",
    "  --output-path mm_differentials-BMI_1m_full\n",
    "!qiime tools export \\\n",
    "  --input-path mm_differentials-BMI_6m_full.qza \\\n",
    "  --output-path mm_differentials-BMI_6m_full"
   ]
  },
  {
   "cell_type": "code",
   "execution_count": 10,
   "metadata": {},
   "outputs": [
    {
     "name": "stdout",
     "output_type": "stream",
     "text": [
      "\u001b[34mBMI_Uni_CS\u001b[m\u001b[m/\n",
      "\u001b[34mDII_Uni_CS\u001b[m\u001b[m/\n",
      "\u001b[31mMM_songbird_04Jul2021.ipynb\u001b[m\u001b[m*\n",
      "\u001b[31mMothers_Milk_Deblur_Processing_TLA.ipynb\u001b[m\u001b[m*\n",
      "\u001b[31mdeblur-sequences-taxonomy-MM.qza\u001b[m\u001b[m*\n",
      "\u001b[31memperor-biplot-BMI_1m_full.qzv\u001b[m\u001b[m*\n",
      "\u001b[31memperor-biplot-BMI_6m_full.qzv\u001b[m\u001b[m*\n",
      "\u001b[31mmm_biplot-BMI_1m_full.qza\u001b[m\u001b[m*\n",
      "\u001b[31mmm_biplot-BMI_6m_full.qza\u001b[m\u001b[m*\n",
      "\u001b[34mmm_differentials-BMI_1m_full\u001b[m\u001b[m/\n",
      "\u001b[31mmm_differentials-BMI_1m_full.qza\u001b[m\u001b[m*\n",
      "\u001b[34mmm_differentials-BMI_6m_full\u001b[m\u001b[m/\n",
      "\u001b[31mmm_differentials-BMI_6m_full.qza\u001b[m\u001b[m*\n",
      "\u001b[31mmm_regression-BMI_1m_full.qza\u001b[m\u001b[m*\n",
      "\u001b[31mmm_regression-BMI_1m_full.qzv\u001b[m\u001b[m*\n",
      "\u001b[31mmm_regression-BMI_6m_full.qza\u001b[m\u001b[m*\n",
      "\u001b[31mmm_regression-BMI_6m_full.qzv\u001b[m\u001b[m*\n",
      "\u001b[31mmm_seqs_noblank_mom_1m.biom\u001b[m\u001b[m*\n",
      "\u001b[31mmm_seqs_noblank_mom_1m.qza\u001b[m\u001b[m*\n",
      "\u001b[31mmm_seqs_noblank_mom_1m.txt\u001b[m\u001b[m*\n",
      "\u001b[31mmm_seqs_noblank_mom_6m.biom\u001b[m\u001b[m*\n",
      "\u001b[31mmm_seqs_noblank_mom_6m.qza\u001b[m\u001b[m*\n",
      "\u001b[31mmm_seqs_noblank_mom_6m.txt\u001b[m\u001b[m*\n",
      "\u001b[31mnull-biplot-BMI_1m_full.qza\u001b[m\u001b[m*\n",
      "\u001b[31mnull-biplot-BMI_6m_full.qza\u001b[m\u001b[m*\n",
      "\u001b[31mnull-diff-BMI_1m_full.qza\u001b[m\u001b[m*\n",
      "\u001b[31mnull-diff-BMI_6m_full.qza\u001b[m\u001b[m*\n",
      "\u001b[31mnull-stats-BMI_1m_full.qza\u001b[m\u001b[m*\n",
      "\u001b[31mnull-stats-BMI_6m_full.qza\u001b[m\u001b[m*\n",
      "\u001b[31mpaired-summary-uni-vs-null-BMI_1m_full.qzv\u001b[m\u001b[m*\n",
      "\u001b[31mpaired-summary-uni-vs-null-BMI_6m_full.qzv\u001b[m\u001b[m*\n",
      "\u001b[31mqurro-plot-BMI_1m_full.qzv\u001b[m\u001b[m*\n",
      "\u001b[31mqurro-plot-BMI_6m_full.qzv\u001b[m\u001b[m*\n",
      "\u001b[31msongbirdData_1m.txt\u001b[m\u001b[m*\n",
      "\u001b[31msongbirdData_6m.txt\u001b[m\u001b[m*\n",
      "\u001b[31msongbird_CS_BMI_Multi_05Jul2021.ipynb\u001b[m\u001b[m*\n",
      "\u001b[31msongbird_CS_BMI_Uni_05Jul2021.ipynb\u001b[m\u001b[m*\n",
      "\u001b[31msongbird_CS_DII_Uni_05Jul2021.ipynb\u001b[m\u001b[m*\n",
      "\u001b[31mvisualization_CS_Uni_05Jul2021.ipynb\u001b[m\u001b[m*\n"
     ]
    }
   ],
   "source": [
    "ls"
   ]
  },
  {
   "cell_type": "code",
   "execution_count": null,
   "metadata": {},
   "outputs": [
    {
     "name": "stdout",
     "output_type": "stream",
     "text": [
      "Press the 'q' key, Control-C, or Control-D to quit. This view may no longer be accessible or work correctly after quitting."
     ]
    }
   ],
   "source": [
    "!qiime tools view paired-summary-uni-vs-null-BMI_1m_full.qzv"
   ]
  },
  {
   "cell_type": "code",
   "execution_count": null,
   "metadata": {},
   "outputs": [],
   "source": [
    "!qiime tools view paired-summary-uni-vs-null-BMI_6m_full.qzv"
   ]
  },
  {
   "cell_type": "code",
   "execution_count": null,
   "metadata": {},
   "outputs": [],
   "source": [
    "q"
   ]
  },
  {
   "cell_type": "code",
   "execution_count": null,
   "metadata": {},
   "outputs": [],
   "source": []
  }
 ],
 "metadata": {
  "kernelspec": {
   "display_name": "Python 3",
   "language": "python",
   "name": "python3"
  },
  "language_info": {
   "codemirror_mode": {
    "name": "ipython",
    "version": 3
   },
   "file_extension": ".py",
   "mimetype": "text/x-python",
   "name": "python",
   "nbconvert_exporter": "python",
   "pygments_lexer": "ipython3",
   "version": "3.6.10"
  }
 },
 "nbformat": 4,
 "nbformat_minor": 4
}
