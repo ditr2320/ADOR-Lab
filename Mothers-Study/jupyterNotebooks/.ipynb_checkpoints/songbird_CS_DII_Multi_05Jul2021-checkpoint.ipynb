{
 "cells": [
  {
   "cell_type": "code",
   "execution_count": 2,
   "metadata": {},
   "outputs": [
    {
     "name": "stdout",
     "output_type": "stream",
     "text": [
      "\u001b[32mSaved FeatureData[Differential] to: mm_differentials-DII_1m_full.qza\u001b[0m\n",
      "\u001b[32mSaved SampleData[SongbirdStats] to: mm_regression-DII_1m_full.qza\u001b[0m\n",
      "\u001b[32mSaved PCoAResults % Properties('biplot') to: mm_biplot-DII_1m_full.qza\u001b[0m\n"
     ]
    }
   ],
   "source": [
    "# Simple univariate model 1m \n",
    "!qiime songbird multinomial \\\n",
    "--i-table mm_seqs_noblank_mom_1m.qza \\\n",
    "--m-metadata-file songbirdData_1m.txt \\\n",
    "--p-formula \"DII_Mom+mother_age+mom_BMI+m_ener_Mom+exercise_r+SES_r\" \\\n",
    "--p-epochs 10000 \\\n",
    "--p-differential-prior 0.5 \\\n",
    "--p-summary-interval 1 \\\n",
    "--o-differentials mm_differentials-DII_1m_full.qza \\\n",
    "--o-regression-stats mm_regression-DII_1m_full.qza \\\n",
    "--o-regression-biplot mm_biplot-DII_1m_full.qza"
   ]
  },
  {
   "cell_type": "code",
   "execution_count": 3,
   "metadata": {},
   "outputs": [
    {
     "name": "stdout",
     "output_type": "stream",
     "text": [
      "\u001b[32mSaved FeatureData[Differential] to: mm_differentials-DII_6m_full.qza\u001b[0m\n",
      "\u001b[32mSaved SampleData[SongbirdStats] to: mm_regression-DII_6m_full.qza\u001b[0m\n",
      "\u001b[32mSaved PCoAResults % Properties('biplot') to: mm_biplot-DII_6m_full.qza\u001b[0m\n"
     ]
    }
   ],
   "source": [
    "# Simple univariate model 6m \n",
    "!qiime songbird multinomial \\\n",
    "--i-table mm_seqs_noblank_mom_6m.qza \\\n",
    "--m-metadata-file songbirdData_6m.txt \\\n",
    "--p-formula \"DII_Mom+mother_age+mom_BMI+m_ener_Mom+exercise_r+SES_r\" \\\n",
    "--p-epochs 10000 \\\n",
    "--p-differential-prior 0.5 \\\n",
    "--p-summary-interval 1 \\\n",
    "--o-differentials mm_differentials-DII_6m_full.qza \\\n",
    "--o-regression-stats mm_regression-DII_6m_full.qza \\\n",
    "--o-regression-biplot mm_biplot-DII_6m_full.qza"
   ]
  },
  {
   "cell_type": "code",
   "execution_count": 4,
   "metadata": {},
   "outputs": [
    {
     "name": "stdout",
     "output_type": "stream",
     "text": [
      "\u001b[32mSaved FeatureData[Differential] to: null-diff_1m_full.qza\u001b[0m\n",
      "\u001b[32mSaved SampleData[SongbirdStats] to: null-stats_1m_full.qza\u001b[0m\n",
      "\u001b[32mSaved PCoAResults % Properties('biplot') to: null-biplot_1m_full.qza\u001b[0m\n"
     ]
    }
   ],
   "source": [
    "\n",
    "# NULL model 1m \n",
    "!qiime songbird multinomial \\\n",
    "--i-table mm_seqs_noblank_mom_1m.qza \\\n",
    "--m-metadata-file songbirdData_1m.txt \\\n",
    "--p-formula \"1\" \\\n",
    "--p-epochs 10000 \\\n",
    "--p-differential-prior 0.5 \\\n",
    "--p-summary-interval 1 \\\n",
    "--o-differentials null-diff_1m_full.qza \\\n",
    "--o-regression-stats null-stats_1m_full.qza \\\n",
    "--o-regression-biplot null-biplot_1m_full.qza"
   ]
  },
  {
   "cell_type": "code",
   "execution_count": 5,
   "metadata": {},
   "outputs": [
    {
     "name": "stdout",
     "output_type": "stream",
     "text": [
      "\u001b[32mSaved FeatureData[Differential] to: null-diff_6m_full.qza\u001b[0m\n",
      "\u001b[32mSaved SampleData[SongbirdStats] to: null-stats_6m_full.qza\u001b[0m\n",
      "\u001b[32mSaved PCoAResults % Properties('biplot') to: null-biplot_6m_full.qza\u001b[0m\n"
     ]
    }
   ],
   "source": [
    "#NULL model 6m \n",
    "!qiime songbird multinomial \\\n",
    "--i-table mm_seqs_noblank_mom_6m.qza \\\n",
    "--m-metadata-file songbirdData_6m.txt \\\n",
    "--p-formula \"1\" \\\n",
    "--p-epochs 10000 \\\n",
    "--p-differential-prior 0.5 \\\n",
    "--p-summary-interval 1 \\\n",
    "--o-differentials null-diff_6m_full.qza \\\n",
    "--o-regression-stats null-stats_6m_full.qza \\\n",
    "--o-regression-biplot null-biplot_6m_full.qza"
   ]
  },
  {
   "cell_type": "code",
   "execution_count": 6,
   "metadata": {},
   "outputs": [
    {
     "name": "stdout",
     "output_type": "stream",
     "text": [
      "\u001b[32mSaved Visualization to: paired-summary-uni-vs-null_1m_full.qzv\u001b[0m\n",
      "\u001b[32mSaved Visualization to: paired-summary-uni-vs-null_6m_full.qzv\u001b[0m\n"
     ]
    }
   ],
   "source": [
    "#1m \n",
    "!qiime songbird summarize-paired \\\n",
    "--i-regression-stats mm_regression-DII_1m_full.qza \\\n",
    "--i-baseline-stats null-stats_1m_full.qza \\\n",
    "--o-visualization paired-summary-uni-vs-null_1m_full.qzv\n",
    "\n",
    "#6m\n",
    "!qiime songbird summarize-paired \\\n",
    "--i-regression-stats mm_regression-DII_6m_full.qza \\\n",
    "--i-baseline-stats null-stats_6m_full.qza \\\n",
    "--o-visualization paired-summary-uni-vs-null_6m_full.qzv"
   ]
  },
  {
   "cell_type": "code",
   "execution_count": 7,
   "metadata": {},
   "outputs": [
    {
     "name": "stdout",
     "output_type": "stream",
     "text": [
      "\u001b[32mSaved Visualization to: mm_regression-DII_1m_full.qzv\u001b[0m\n",
      "\u001b[32mSaved Visualization to: mm_regression-DII_6m_full.qzv\u001b[0m\n"
     ]
    }
   ],
   "source": [
    "!qiime songbird summarize-single \\\n",
    "--i-regression-stats mm_regression-DII_1m_full.qza \\\n",
    "--o-visualization mm_regression-DII_1m_full.qzv\n",
    "\n",
    "!qiime songbird summarize-single \\\n",
    "--i-regression-stats mm_regression-DII_6m_full.qza \\\n",
    "--o-visualization mm_regression-DII_6m_full.qzv"
   ]
  },
  {
   "cell_type": "code",
   "execution_count": 8,
   "metadata": {},
   "outputs": [
    {
     "name": "stdout",
     "output_type": "stream",
     "text": [
      "\u001b[32mSaved Visualization to: qurro-plot-DII_1m_full.qzv\u001b[0m\n",
      "\u001b[32mSaved Visualization to: qurro-plot-DII_6m_full.qzv\u001b[0m\n"
     ]
    }
   ],
   "source": [
    "# Visualize using qurro \n",
    "!qiime qurro differential-plot \\\n",
    "    --i-table mm_seqs_noblank_mom_1m.qza \\\n",
    "    --i-ranks mm_differentials-DII_1m_full.qza \\\n",
    "    --m-sample-metadata-file songbirdData_1m.txt \\\n",
    "    --m-feature-metadata-file deblur-sequences-taxonomy-MM.qza \\\n",
    "    --o-visualization qurro-plot-DII_1m_full.qzv\n",
    "\n",
    "!qiime qurro differential-plot \\\n",
    "    --i-table mm_seqs_noblank_mom_6m.qza \\\n",
    "    --i-ranks mm_differentials-DII_6m_full.qza \\\n",
    "    --m-sample-metadata-file songbirdData_6m.txt \\\n",
    "    --m-feature-metadata-file deblur-sequences-taxonomy-MM.qza \\\n",
    "    --o-visualization qurro-plot-DII_6m_full.qzv"
   ]
  },
  {
   "cell_type": "code",
   "execution_count": 9,
   "metadata": {},
   "outputs": [
    {
     "name": "stdout",
     "output_type": "stream",
     "text": [
      "\u001b[32mSaved Visualization to: emperor-biplot-DII_1m_full.qzv\u001b[0m\n",
      "\u001b[32mSaved Visualization to: emperor-biplot-DII_6m_full.qzv\u001b[0m\n"
     ]
    }
   ],
   "source": [
    "# Visulaizing biplot in emperor\n",
    "!qiime emperor biplot \\\n",
    "--i-biplot mm_biplot-DII_1m_full.qza \\\n",
    "--m-sample-metadata-file deblur-sequences-taxonomy-MM.qza \\\n",
    "--p-ignore-missing-samples \\\n",
    "--p-number-of-features 2 \\\n",
    "--o-visualization emperor-biplot-DII_1m_full\n",
    "\n",
    "!qiime emperor biplot \\\n",
    "--i-biplot mm_biplot-DII_6m_full.qza \\\n",
    "--m-sample-metadata-file deblur-sequences-taxonomy-MM.qza \\\n",
    "--p-ignore-missing-samples \\\n",
    "--p-number-of-features 2 \\\n",
    "--o-visualization emperor-biplot-DII_6m_full"
   ]
  },
  {
   "cell_type": "code",
   "execution_count": null,
   "metadata": {},
   "outputs": [
    {
     "name": "stdout",
     "output_type": "stream",
     "text": [
      "\u001b[32mExported mm_differentials-DII_1m_full.qza as DifferentialDirectoryFormat to directory mm_differentials-DII_1m_full\u001b[0m\n"
     ]
    }
   ],
   "source": [
    "# Output differentials from Songbird\n",
    "!qiime tools export \\\n",
    "  --input-path mm_differentials-DII_1m_full.qza \\\n",
    "  --output-path mm_differentials-DII_1m_full\n",
    "!qiime tools export \\\n",
    "  --input-path mm_differentials-DII_6m_full.qza \\\n",
    "  --output-path mm_differentials-DII_6m_full"
   ]
  },
  {
   "cell_type": "code",
   "execution_count": null,
   "metadata": {},
   "outputs": [],
   "source": []
  }
 ],
 "metadata": {
  "kernelspec": {
   "display_name": "Python 3",
   "language": "python",
   "name": "python3"
  },
  "language_info": {
   "codemirror_mode": {
    "name": "ipython",
    "version": 3
   },
   "file_extension": ".py",
   "mimetype": "text/x-python",
   "name": "python",
   "nbconvert_exporter": "python",
   "pygments_lexer": "ipython3",
   "version": "3.6.10"
  }
 },
 "nbformat": 4,
 "nbformat_minor": 4
}
