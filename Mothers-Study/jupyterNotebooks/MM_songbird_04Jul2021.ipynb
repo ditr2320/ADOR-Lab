{
 "cells": [
  {
   "cell_type": "code",
   "execution_count": null,
   "metadata": {},
   "outputs": [],
   "source": [
    "ls"
   ]
  },
  {
   "cell_type": "code",
   "execution_count": null,
   "metadata": {},
   "outputs": [],
   "source": [
    "biom convert -i mm_seqs_noblank_mom_1m.txt -o mm_seqs_noblank_mom_1m.biom --table-type=\"OTU table\" --to-hdf5\n",
    "biom convert -i mm_seqs_noblank_mom_6m.txt -o mm_seqs_noblank_mom_6m.biom --table-type=\"OTU table\" --to-hdf5\n",
    "biom convert -i mm_seqs_noblank_mom_1m_trim.txt -o mm_seqs_noblank_mom_1m_trim.biom --table-type=\"OTU table\" --to-hdf5"
   ]
  },
  {
   "cell_type": "code",
   "execution_count": null,
   "metadata": {},
   "outputs": [],
   "source": [
    "qiime tools import \\\n",
    "--input-path mm_seqs_noblank_mom_1m.biom \\\n",
    "--output-path mm_seqs_noblank_mom_1m.qza \\\n",
    "--type 'FeatureTable[Frequency]' "
   ]
  },
  {
   "cell_type": "code",
   "execution_count": null,
   "metadata": {},
   "outputs": [],
   "source": [
    "qiime tools import \\\n",
    "--input-path mm_seqs_noblank_mom_6m.biom \\\n",
    "--output-path mm_seqs_noblank_mom_6m.qza \\\n",
    "--type 'FeatureTable[Frequency]' "
   ]
  },
  {
   "cell_type": "code",
   "execution_count": null,
   "metadata": {},
   "outputs": [],
   "source": [
    "qiime tools import \\\n",
    "--input-path mm_seqs_noblank_mom_1m_trim.biom \\\n",
    "--output-path mm_seqs_noblank_mom_1m_trim.qza \\\n",
    "--type 'FeatureTable[Frequency]' "
   ]
  },
  {
   "cell_type": "code",
   "execution_count": null,
   "metadata": {},
   "outputs": [],
   "source": [
    "# Simple univariate model\n",
    "qiime songbird multinomial \\\n",
    "--i-table mm_seqs_noblank_mom_1m.qza \\\n",
    "--m-metadata-file songbirdData_1m.txt \\\n",
    "--p-formula \"DII_Mom\" \\\n",
    "--p-epochs 10000 \\\n",
    "--p-differential-prior 0.5 \\\n",
    "--p-summary-interval 1 \\\n",
    "--o-differentials mm_differentials-DII_1m.qza \\\n",
    "--o-regression-stats mm_regression-DII_1m.qza \\\n",
    "--o-regression-biplot mm_biplot-DII_1m.qza\n",
    "\n",
    "qiime songbird multinomial \\\n",
    "--i-table mm_seqs_noblank_mom_1m.qza \\\n",
    "--m-metadata-file fullSongbirdData_1m.txt \\\n",
    "--p-formula \"DII_Mom\" \\\n",
    "--p-epochs 10000 \\\n",
    "--p-differential-prior 0.5 \\\n",
    "--p-summary-interval 1 \\\n",
    "--o-differentials mm_differentials-DII_1m.qza \\\n",
    "--o-regression-stats mm_regression-DII_1m.qza \\\n",
    "--o-regression-biplot mm_biplot-DII_1m.qza\n",
    "\n",
    "qiime songbird multinomial \\\n",
    "--i-table mm_seqs_noblank_mom_1m_trim.qza \\\n",
    "--m-metadata-file songbirdData_1m.txt \\\n",
    "--p-formula \"DII_Mom\" \\\n",
    "--p-epochs 10000 \\\n",
    "--p-differential-prior 0.5 \\\n",
    "--p-summary-interval 1 \\\n",
    "--o-differentials mm_differentials-DII_1m.qza \\\n",
    "--o-regression-stats mm_regression-DII_1m.qza \\\n",
    "--o-regression-biplot mm_biplot-DII_1m.qza\n",
    "\n",
    "qiime songbird multinomial \\\n",
    "--i-table mm_seqs_noblank_mom_1m_trim.qza \\\n",
    "--m-metadata-file songbirdData_1m_X.txt \\\n",
    "--p-formula \"DII_Mom\" \\\n",
    "--p-epochs 10000 \\\n",
    "--p-differential-prior 0.5 \\\n",
    "--p-summary-interval 1 \\\n",
    "--o-differentials mm_differentials-DII_1m.qza \\\n",
    "--o-regression-stats mm_regression-DII_1m.qza \\\n",
    "--o-regression-biplot mm_biplot-DII_1m.qza\n",
    "\n"
   ]
  }
 ],
 "metadata": {
  "kernelspec": {
   "display_name": "Python 3",
   "language": "python",
   "name": "python3"
  },
  "language_info": {
   "codemirror_mode": {
    "name": "ipython",
    "version": 3
   },
   "file_extension": ".py",
   "mimetype": "text/x-python",
   "name": "python",
   "nbconvert_exporter": "python",
   "pygments_lexer": "ipython3",
   "version": "3.6.10"
  }
 },
 "nbformat": 4,
 "nbformat_minor": 4
}
