{
 "cells": [
  {
   "cell_type": "code",
   "execution_count": null,
   "metadata": {},
   "outputs": [],
   "source": [
    "# Processing Mother's Milk Deblur BIOM Table from Qiita (05Jan21)"
   ]
  },
  {
   "cell_type": "code",
   "execution_count": 15,
   "metadata": {},
   "outputs": [
    {
     "name": "stdout",
     "output_type": "stream",
     "text": [
      "/Users/tanya/Dropbox/00.CU Boulder/MM Microbiome Sequences/Qiita Output/study_11908_121420-111241/BIOM/62060 deblur reference hit table/Processed files by TLA\n"
     ]
    }
   ],
   "source": [
    "cd /Users/tanya/Dropbox/00.CU Boulder/MM Microbiome Sequences/Qiita Output/study_11908_121420-111241/BIOM/62060 deblur reference hit table/Processed files by TLA"
   ]
  },
  {
   "cell_type": "code",
   "execution_count": 16,
   "metadata": {},
   "outputs": [],
   "source": [
    "#convert biom file to txt to check contents\n",
    "#contains OTU sequences as rows and samples as cols (including blanks/controls)\n",
    "!biom convert -i reference-hit.biom -o reference-hit.txt --to-tsv"
   ]
  },
  {
   "cell_type": "markdown",
   "metadata": {},
   "source": [
    "# Import deblurred sequences (fasta) and assign taxonomy - Using  Greengenes\n",
    "### Assign taxonomy to deblurred sequences using Greengenes 13_5 trimmed to the V4 region\n",
    "\n",
    "NOTE: This classifier was obtained from:\n",
    "http://greengenes.secondgenome.com/downloads/database/13_5\n",
    "***"
   ]
  },
  {
   "cell_type": "code",
   "execution_count": 43,
   "metadata": {},
   "outputs": [
    {
     "name": "stdout",
     "output_type": "stream",
     "text": [
      "\u001b[32mImported reference-hit.seqs.fa as DNASequencesDirectoryFormat to mm_150bp_deblur_reference-hit_seqs.qza\u001b[0m\n"
     ]
    }
   ],
   "source": [
    "#Import deblur sequences\n",
    "!qiime tools import \\\n",
    "--input-path reference-hit.seqs.fa \\\n",
    "--type \"FeatureData[Sequence]\" \\\n",
    "--output-path mm_150bp_deblur_reference-hit_seqs.qza"
   ]
  },
  {
   "cell_type": "code",
   "execution_count": 24,
   "metadata": {},
   "outputs": [
    {
     "name": "stdout",
     "output_type": "stream",
     "text": [
      "\u001b[32mSaved FeatureData[Taxonomy] to: mm_150bp_deblur_reference-hit_seqs_taxonomy_gg.gza.qza\u001b[0m\n"
     ]
    }
   ],
   "source": [
    "#This function requires a sequence table to assign taxonomy\n",
    "#Input of deblur-seqs.qza is for all sequences, which will be applied to processed freq table below\n",
    "!qiime feature-classifier classify-sklearn \\\n",
    "--i-reads mm_150bp_deblur_reference-hit_seqs.qza \\\n",
    "--i-classifier gg-13-8-99-515-806-nb-classifier.qza \\\n",
    "--o-classification mm_150bp_deblur_reference-hit_seqs_taxonomy_gg.qza\n",
    "#Using classifer for V4 region, downloaded from \"Data Resources\" on Qiime2 page"
   ]
  },
  {
   "cell_type": "code",
   "execution_count": 33,
   "metadata": {},
   "outputs": [
    {
     "name": "stdout",
     "output_type": "stream",
     "text": [
      "\u001b[32mExported mm_150bp_deblur_reference-hit_seqs_taxonomy_gg.qza as TSVTaxonomyDirectoryFormat to directory mm_150bp_deblur_reference-hit_seqs_taxonomy_gg\u001b[0m\n"
     ]
    }
   ],
   "source": [
    "# Output taxonomy .qza file as .tsv\n",
    "!qiime tools export \\\n",
    "  --input-path mm_150bp_deblur_reference-hit_seqs_taxonomy_gg.qza \\\n",
    "  --output-path mm_150bp_deblur_reference-hit_seqs_taxonomy_gg"
   ]
  },
  {
   "cell_type": "markdown",
   "metadata": {},
   "source": [
    "## Filter sOTU table to produce tables for analysis"
   ]
  },
  {
   "cell_type": "code",
   "execution_count": 25,
   "metadata": {},
   "outputs": [
    {
     "name": "stdout",
     "output_type": "stream",
     "text": [
      "\u001b[32mImported reference-hit.biom as BIOMV210Format to mm_150bp_deblur.qza\u001b[0m\n",
      "\u001b[32mSaved Visualization to: mm_150bp_deblur.qzv\u001b[0m\n"
     ]
    }
   ],
   "source": [
    "!qiime tools import \\\n",
    "--input-path reference-hit.biom \\\n",
    "--input-format BIOMV210Format \\\n",
    "--type 'FeatureTable[Frequency]' \\\n",
    " --output-path mm_150bp_deblur.qza\n",
    "\n",
    "!qiime feature-table summarize \\\n",
    "--i-table mm_150bp_deblur_rg.qza \\\n",
    "--m-sample-metadata-file 62060_mapping_file.txt \\\n",
    "--o-visualization mm_150bp_deblur.qzv"
   ]
  },
  {
   "cell_type": "markdown",
   "metadata": {},
   "source": [
    "## Import insertion-tree generated with deblurred data (from Qiita)\n",
    "***"
   ]
  },
  {
   "cell_type": "code",
   "execution_count": 26,
   "metadata": {},
   "outputs": [
    {
     "name": "stdout",
     "output_type": "stream",
     "text": [
      "\u001b[32mImported insertion_tree.relabelled.tre as NewickDirectoryFormat to mm_150bp_deblur_insertion_tree.qza\u001b[0m\n"
     ]
    }
   ],
   "source": [
    "#Insertion Tree from Qiita\n",
    "!qiime tools import \\\n",
    "  --input-path insertion_tree.relabelled.tre \\\n",
    "  --output-path mm_150bp_deblur_insertion_tree.qza \\\n",
    "  --type 'Phylogeny[Rooted]'"
   ]
  },
  {
   "cell_type": "markdown",
   "metadata": {},
   "source": [
    "## Filter sOTU table to exclude fragments not inserted into phylogeny, and create summary of new table (referred to as the main sOTU table, or main table, from here-on-out)"
   ]
  },
  {
   "cell_type": "code",
   "execution_count": 19,
   "metadata": {},
   "outputs": [
    {
     "name": "stdout",
     "output_type": "stream",
     "text": [
      "\u001b[32mSaved FeatureTable[Frequency] to: mm_150bp_deblur_sepp.qza\u001b[0m\n",
      "\u001b[32mSaved FeatureTable[Frequency] to: mm_150bp_deblur_sepp_removed.qza\u001b[0m\n",
      "\u001b[32mSaved Visualization to: mm_150bp_deblur_sepp_removed.qzv\u001b[0m\n",
      "\u001b[32mSaved Visualization to: mm_150bp_deblur_sepp.qzv\u001b[0m\n"
     ]
    }
   ],
   "source": [
    "!qiime fragment-insertion filter-features \\\n",
    "  --i-table mm_150bp_deblur.qza \\\n",
    "  --i-tree mm_150bp_deblur_insertion_tree.qza \\\n",
    "  --o-filtered-table mm_150bp_deblur_sepp.qza \\\n",
    "  --o-removed-table mm_150bp_deblur_sepp_removed.qza\n",
    "\n",
    "!qiime feature-table summarize \\\n",
    "  --i-table mm_150bp_deblur_sepp_removed.qza \\\n",
    "  --o-visualization mm_150bp_deblur_sepp_removed.qzv\n",
    "\n",
    "!qiime feature-table summarize \\\n",
    "  --i-table mm_150bp_deblur_sepp.qza \\\n",
    "  --o-visualization mm_150bp_deblur_sepp.qzv\n",
    "# This steps takes awhile\n",
    "# Makes table have same samples/dimensions"
   ]
  },
  {
   "cell_type": "markdown",
   "metadata": {},
   "source": [
    "## Filter sOTU table to exclude mitochondrial reads"
   ]
  },
  {
   "cell_type": "code",
   "execution_count": 27,
   "metadata": {},
   "outputs": [
    {
     "name": "stdout",
     "output_type": "stream",
     "text": [
      "\u001b[32mSaved FeatureTable[Frequency] to: mm_150bp_deblur_sepp_noMit.qza\u001b[0m\n"
     ]
    }
   ],
   "source": [
    "!qiime taxa filter-table \\\n",
    "  --i-table mm_150bp_deblur_sepp.qza \\\n",
    "  --i-taxonomy deblur-sequences-taxonomy-MM.qza \\\n",
    "  --p-exclude mitochondria \\\n",
    "  --o-filtered-table mm_150bp_deblur_sepp_noMit.qza"
   ]
  },
  {
   "cell_type": "markdown",
   "metadata": {},
   "source": [
    "## Filter sOTU table to exclude chloroplast reads, and generate summary of new feature-table\n",
    "***"
   ]
  },
  {
   "cell_type": "code",
   "execution_count": 28,
   "metadata": {},
   "outputs": [
    {
     "name": "stdout",
     "output_type": "stream",
     "text": [
      "\u001b[32mSaved FeatureTable[Frequency] to: mm_150bp_deblur_sepp_noMit_noChl.qza\u001b[0m\n",
      "\u001b[32mSaved Visualization to: mm_150bp_deblur_sepp_noMit_noChl.qzv\u001b[0m\n"
     ]
    }
   ],
   "source": [
    "!qiime taxa filter-table \\\n",
    "  --i-table mm_150bp_deblur_sepp_noMit.qza \\\n",
    "  --i-taxonomy deblur-sequences-taxonomy-MM.qza \\\n",
    "  --p-exclude chloroplast \\\n",
    "  --o-filtered-table mm_150bp_deblur_sepp_noMit_noChl.qza\n",
    "\n",
    "!qiime feature-table summarize \\\n",
    "  --i-table mm_150bp_deblur_sepp_noMit_noChl.qza \\\n",
    "  --o-visualization mm_150bp_deblur_sepp_noMit_noChl.qzv"
   ]
  },
  {
   "cell_type": "code",
   "execution_count": 55,
   "metadata": {},
   "outputs": [
    {
     "name": "stdout",
     "output_type": "stream",
     "text": [
      "\u001b[32mExported mm_150bp_deblur_sepp_noMit_noChl.qza as BIOMV210DirFmt to directory mm_150bp_deblur_sepp_noMit_noChl\u001b[0m\n"
     ]
    }
   ],
   "source": [
    "#Output freq table that contains sequences to biom file\n",
    "#Remove extra header before reading into R\n",
    "!qiime tools export \\\n",
    " --input-path mm_150bp_deblur_sepp_noMit_noChl.qza \\\n",
    " --output-path mm_150bp_deblur_sepp_noMit_noChl\n",
    "\n",
    "# Output biom file to .tsv file\n",
    "!biom convert -i mm_150bp_deblur_sepp_noMit_noChl/feature-table.biom -o mm_150bp_deblur_sepp_noMit_noChl.tsv --to-tsv"
   ]
  },
  {
   "cell_type": "markdown",
   "metadata": {},
   "source": [
    "## Rarefy sOTU table (sampling depth of 10,000 sequences), and create summary of new table. Used for diversity measures and associated tests (e.g., permanova, biplots)\n",
    "***"
   ]
  },
  {
   "cell_type": "code",
   "execution_count": 37,
   "metadata": {},
   "outputs": [
    {
     "name": "stdout",
     "output_type": "stream",
     "text": [
      "\u001b[32mSaved FeatureTable[Frequency] to: mm_150bp_deblur_sepp_noMit_noChl_rar10k.qza\u001b[0m\n",
      "\u001b[32mSaved Visualization to: mm_150bp_deblur_sepp_noMit_noChl_rar10k.qzv\u001b[0m\n"
     ]
    }
   ],
   "source": [
    "!qiime feature-table rarefy \\\n",
    "  --i-table mm_150bp_deblur_sepp_noMit_noChl.qza \\\n",
    "  --p-sampling-depth 10000 \\\n",
    "  --o-rarefied-table mm_150bp_deblur_sepp_noMit_noChl_rar10k.qza\n",
    "\n",
    "!qiime feature-table summarize \\\n",
    "  --i-table mm_150bp_deblur_sepp_noMit_noChl_rar10k.qza \\\n",
    "  --o-visualization mm_150bp_deblur_sepp_noMit_noChl_rar10k.qzv"
   ]
  },
  {
   "cell_type": "markdown",
   "metadata": {},
   "source": [
    "## Create Taxonomy Tables"
   ]
  },
  {
   "cell_type": "code",
   "execution_count": 29,
   "metadata": {},
   "outputs": [
    {
     "name": "stdout",
     "output_type": "stream",
     "text": [
      "\u001b[32mSaved FeatureTable[Frequency] to: mm_150bp_deblur_sepp_noMit_noChl_rmsingletons.qza\u001b[0m\n",
      "\u001b[32mSaved Visualization to: mm_150bp_deblur_sepp_noMit_noChl_rmsingletons.qzv\u001b[0m\n"
     ]
    }
   ],
   "source": [
    "#Filter singletons from table\n",
    "#Not using rareified table\n",
    "!qiime feature-table filter-features \\\n",
    "--i-table mm_150bp_deblur_sepp_noMit_noChl.qza \\\n",
    "--p-min-samples 2 \\\n",
    "--o-filtered-table mm_150bp_deblur_sepp_noMit_noChl_rmsingletons.qza\n",
    "\n",
    "#Summary of filtered table\n",
    "!qiime feature-table summarize \\\n",
    "--i-table mm_150bp_deblur_sepp_noMit_noChl_rmsingletons.qza \\\n",
    "--m-sample-metadata-file 62060_mapping_file.txt \\\n",
    "--o-visualization mm_150bp_deblur_sepp_noMit_noChl_rmsingletons.qzv"
   ]
  },
  {
   "cell_type": "code",
   "execution_count": 30,
   "metadata": {},
   "outputs": [
    {
     "name": "stdout",
     "output_type": "stream",
     "text": [
      "\u001b[32mSaved FeatureTable[Frequency] to: mm_150bp_deblur_sepp_noMit_noChl_rmsingletons_level1.qza\u001b[0m\n",
      "\u001b[32mSaved FeatureTable[Frequency] to: mm_150bp_deblur_sepp_noMit_noChl_rmsingletons_level2.qza\u001b[0m\n",
      "\u001b[32mSaved FeatureTable[Frequency] to: mm_150bp_deblur_sepp_noMit_noChl_rmsingletons_level3.qza\u001b[0m\n",
      "\u001b[32mSaved FeatureTable[Frequency] to: mm_150bp_deblur_sepp_noMit_noChl_rmsingletons_level4.qza\u001b[0m\n",
      "\u001b[32mSaved FeatureTable[Frequency] to: mm_150bp_deblur_sepp_noMit_noChl_rmsingletons_level5.qza\u001b[0m\n",
      "\u001b[32mSaved FeatureTable[Frequency] to: mm_150bp_deblur_sepp_noMit_noChl_rmsingletons_level6.qza\u001b[0m\n",
      "\u001b[32mSaved FeatureTable[Frequency] to: mm_150bp_deblur_sepp_noMit_noChl_rmsingletons_level7.qza\u001b[0m\n"
     ]
    }
   ],
   "source": [
    "#Collapse taxonomy\n",
    "!qiime taxa collapse \\\n",
    "  --i-table mm_150bp_deblur_sepp_noMit_noChl_rmsingletons.qza \\\n",
    "  --i-taxonomy mm_150bp_deblur_reference-hit_seqs_taxonomy_gg.qza\\\n",
    "  --p-level 1 \\\n",
    "  --o-collapsed-table mm_150bp_deblur_sepp_noMit_noChl_rmsingletons_level1.qza\n",
    "\n",
    "!qiime taxa collapse \\\n",
    "  --i-table mm_150bp_deblur_sepp_noMit_noChl_rmsingletons.qza \\\n",
    "  --i-taxonomy mm_150bp_deblur_reference-hit_seqs_taxonomy_gg.qza \\\n",
    "  --p-level 2 \\\n",
    "  --o-collapsed-table mm_150bp_deblur_sepp_noMit_noChl_rmsingletons_level2.qza\n",
    "\n",
    "!qiime taxa collapse \\\n",
    "  --i-table mm_150bp_deblur_sepp_noMit_noChl_rmsingletons.qza \\\n",
    "  --i-taxonomy mm_150bp_deblur_reference-hit_seqs_taxonomy_gg.qza \\\n",
    "  --p-level 3 \\\n",
    "  --o-collapsed-table mm_150bp_deblur_sepp_noMit_noChl_rmsingletons_level3.qza\n",
    "\n",
    "!qiime taxa collapse \\\n",
    "  --i-table mm_150bp_deblur_sepp_noMit_noChl_rmsingletons.qza \\\n",
    "  --i-taxonomy mm_150bp_deblur_reference-hit_seqs_taxonomy_gg.qza \\\n",
    "  --p-level 4 \\\n",
    "  --o-collapsed-table mm_150bp_deblur_sepp_noMit_noChl_rmsingletons_level4.qza\n",
    "\n",
    "!qiime taxa collapse \\\n",
    "  --i-table mm_150bp_deblur_sepp_noMit_noChl_rmsingletons.qza \\\n",
    "  --i-taxonomy mm_150bp_deblur_reference-hit_seqs_taxonomy_gg.qza \\\n",
    "  --p-level 5 \\\n",
    "  --o-collapsed-table mm_150bp_deblur_sepp_noMit_noChl_rmsingletons_level5.qza\n",
    "\n",
    "!qiime taxa collapse \\\n",
    "  --i-table mm_150bp_deblur_sepp_noMit_noChl_rmsingletons.qza \\\n",
    "  --i-taxonomy mm_150bp_deblur_reference-hit_seqs_taxonomy_gg.qza \\\n",
    "  --p-level 6 \\\n",
    "  --o-collapsed-table mm_150bp_deblur_sepp_noMit_noChl_rmsingletons_level6.qza\n",
    "\n",
    "!qiime taxa collapse \\\n",
    "  --i-table mm_150bp_deblur_sepp_noMit_noChl_rmsingletons.qza \\\n",
    "  --i-taxonomy mm_150bp_deblur_reference-hit_seqs_taxonomy_gg.qza \\\n",
    "  --p-level 7 \\\n",
    "  --o-collapsed-table mm_150bp_deblur_sepp_noMit_noChl_rmsingletons_level7.qza"
   ]
  },
  {
   "cell_type": "code",
   "execution_count": 31,
   "metadata": {},
   "outputs": [
    {
     "name": "stdout",
     "output_type": "stream",
     "text": [
      "\u001b[32mExported mm_150bp_deblur_sepp_noMit_noChl_rmsingletons_level1.qza as BIOMV210DirFmt to directory mm_150bp_deblur_sepp_noMit_noChl_rmsingletons_level1\u001b[0m\n",
      "\u001b[32mExported mm_150bp_deblur_sepp_noMit_noChl_rmsingletons_level2.qza as BIOMV210DirFmt to directory mm_150bp_deblur_sepp_noMit_noChl_rmsingletons_level2\u001b[0m\n",
      "\u001b[32mExported mm_150bp_deblur_sepp_noMit_noChl_rmsingletons_level3.qza as BIOMV210DirFmt to directory mm_150bp_deblur_sepp_noMit_noChl_rmsingletons_level3\u001b[0m\n",
      "\u001b[32mExported mm_150bp_deblur_sepp_noMit_noChl_rmsingletons_level4.qza as BIOMV210DirFmt to directory mm_150bp_deblur_sepp_noMit_noChl_rmsingletons_level4\u001b[0m\n",
      "\u001b[32mExported mm_150bp_deblur_sepp_noMit_noChl_rmsingletons_level5.qza as BIOMV210DirFmt to directory mm_150bp_deblur_sepp_noMit_noChl_rmsingletons_level5\u001b[0m\n",
      "\u001b[32mExported mm_150bp_deblur_sepp_noMit_noChl_rmsingletons_level6.qza as BIOMV210DirFmt to directory mm_150bp_deblur_sepp_noMit_noChl_rmsingletons_level6\u001b[0m\n",
      "\u001b[32mExported mm_150bp_deblur_sepp_noMit_noChl_rmsingletons_level7.qza as BIOMV210DirFmt to directory mm_150bp_deblur_sepp_noMit_noChl_rmsingletons_level7\u001b[0m\n"
     ]
    }
   ],
   "source": [
    "# Convert qza files to biom files\n",
    "!qiime tools export \\\n",
    "  --input-path mm_150bp_deblur_sepp_noMit_noChl_rmsingletons_level1.qza \\\n",
    "  --output-path mm_150bp_deblur_sepp_noMit_noChl_rmsingletons_level1\n",
    "\n",
    "!qiime tools export \\\n",
    "  --input-path mm_150bp_deblur_sepp_noMit_noChl_rmsingletons_level2.qza \\\n",
    "  --output-path mm_150bp_deblur_sepp_noMit_noChl_rmsingletons_level2\n",
    "\n",
    "!qiime tools export \\\n",
    "  --input-path mm_150bp_deblur_sepp_noMit_noChl_rmsingletons_level3.qza \\\n",
    "  --output-path mm_150bp_deblur_sepp_noMit_noChl_rmsingletons_level3\n",
    "\n",
    "!qiime tools export \\\n",
    "  --input-path mm_150bp_deblur_sepp_noMit_noChl_rmsingletons_level4.qza \\\n",
    "  --output-path mm_150bp_deblur_sepp_noMit_noChl_rmsingletons_level4\n",
    "\n",
    "!qiime tools export \\\n",
    "  --input-path mm_150bp_deblur_sepp_noMit_noChl_rmsingletons_level5.qza \\\n",
    "  --output-path mm_150bp_deblur_sepp_noMit_noChl_rmsingletons_level5\n",
    "\n",
    "!qiime tools export \\\n",
    "  --input-path mm_150bp_deblur_sepp_noMit_noChl_rmsingletons_level6.qza \\\n",
    "  --output-path mm_150bp_deblur_sepp_noMit_noChl_rmsingletons_level6\n",
    "\n",
    "!qiime tools export \\\n",
    "  --input-path mm_150bp_deblur_sepp_noMit_noChl_rmsingletons_level7.qza \\\n",
    "  --output-path mm_150bp_deblur_sepp_noMit_noChl_rmsingletons_level7"
   ]
  },
  {
   "cell_type": "code",
   "execution_count": 56,
   "metadata": {},
   "outputs": [],
   "source": [
    "# Convert biom files to txt files\n",
    "!biom convert -i mm_150bp_deblur_sepp_noMit_noChl_rmsingletons_level1/feature-table.biom -o mm_150bp_deblur_sepp_noMit_noChl_rmsingletons_level1.tsv --to-tsv\n",
    "!biom convert -i mm_150bp_deblur_sepp_noMit_noChl_rmsingletons_level2/feature-table.biom -o mm_150bp_deblur_sepp_noMit_noChl_rmsingletons_level2.tsv --to-tsv\n",
    "!biom convert -i mm_150bp_deblur_sepp_noMit_noChl_rmsingletons_level3/feature-table.biom -o mm_150bp_deblur_sepp_noMit_noChl_rmsingletons_level3.tsv --to-tsv\n",
    "!biom convert -i mm_150bp_deblur_sepp_noMit_noChl_rmsingletons_level4/feature-table.biom -o mm_150bp_deblur_sepp_noMit_noChl_rmsingletons_level4.tsv --to-tsv\n",
    "!biom convert -i mm_150bp_deblur_sepp_noMit_noChl_rmsingletons_level5/feature-table.biom -o mm_150bp_deblur_sepp_noMit_noChl_rmsingletons_level5.tsv --to-tsv\n",
    "!biom convert -i mm_150bp_deblur_sepp_noMit_noChl_rmsingletons_level6/feature-table.biom -o mm_150bp_deblur_sepp_noMit_noChl_rmsingletons_level6.tsv --to-tsv\n",
    "!biom convert -i mm_150bp_deblur_sepp_noMit_noChl_rmsingletons_level7/feature-table.biom -o mm_150bp_deblur_sepp_noMit_noChl_rmsingletons_level7.tsv --to-tsv"
   ]
  },
  {
   "cell_type": "markdown",
   "metadata": {},
   "source": [
    "# Perform alpha-diversity analyses\n",
    "***\n",
    "## Observed OTUs, Fisher's alpha, Shannon's Index, and Faith's Phylogenetic Diversity (PD)\n",
    "***\n",
    "### NOTE: The output vectors from these analyses can be used as metadata input for further analyses such as in ordinations\n",
    "***"
   ]
  },
  {
   "cell_type": "code",
   "execution_count": 39,
   "metadata": {},
   "outputs": [
    {
     "name": "stdout",
     "output_type": "stream",
     "text": [
      "\u001b[32mSaved SampleData[AlphaDiversity] to: mm_150bp_deblur_sepp_noMit_noChl_rar10k_alpha_richness.qza\u001b[0m\n",
      "\u001b[32mSaved SampleData[AlphaDiversity] to: mm_150bp_deblur_sepp_noMit_noChl_rar10k_alpha_shannon.qza\u001b[0m\n",
      "\u001b[32mSaved SampleData[AlphaDiversity] to: mm_150bp_deblur_sepp_noMit_noChl_rar10k_alpha_faithspd.qza\u001b[0m\n"
     ]
    }
   ],
   "source": [
    "# All data - rarefied\n",
    "!qiime diversity alpha \\\n",
    "  --i-table mm_150bp_deblur_sepp_noMit_noChl_rar10k.qza \\\n",
    "  --p-metric observed_features \\\n",
    "  --o-alpha-diversity mm_150bp_deblur_sepp_noMit_noChl_rar10k_alpha_richness.qza\n",
    "\n",
    "!qiime diversity alpha \\\n",
    "  --i-table mm_150bp_deblur_sepp_noMit_noChl_rar10k.qza \\\n",
    "  --p-metric shannon \\\n",
    "  --o-alpha-diversity mm_150bp_deblur_sepp_noMit_noChl_rar10k_alpha_shannon.qza\n",
    "\n",
    "!qiime diversity alpha-phylogenetic \\\n",
    "  --i-table mm_150bp_deblur_sepp_noMit_noChl_rar10k.qza \\\n",
    "  --i-phylogeny mm_150bp_deblur_insertion_tree.qza \\\n",
    "  --p-metric faith_pd \\\n",
    "  --o-alpha-diversity mm_150bp_deblur_sepp_noMit_noChl_rar10k_alpha_faithspd.qza"
   ]
  },
  {
   "cell_type": "code",
   "execution_count": null,
   "metadata": {},
   "outputs": [],
   "source": [
    "#Example if wanted to test group significance\n",
    "#!qiime diversity alpha-group-significance \\\n",
    " #--i-alpha-diversity mm_150bp_deblur_sepp_noMit_noChl_rar10k_alpha_richness.qza \\\n",
    "  #--m-metadata-file mm_metadata_rapid_growth_reduced_categorical.txt \\\n",
    "  #--o-visualization mm_150bp_deblur_sepp_noMit_noChl_rar10k_alpha_richness_group_compare.qzv\n",
    "\n",
    "#!qiime diversity alpha-group-significance \\\n",
    " # --i-alpha-diversity mm_150bp_deblur_rig_sepp_noMit_noChl_rar10k_alpha_shannon.qza \\\n",
    " # --m-metadata-file mm_metadata_rapid_growth_reduced_categorical.txt \\\n",
    " # --o-visualization mm_150bp_deblur_rig_sepp_noMit_noChl_rar10k_alpha_shannon_group_compare.qzv\n",
    "\n",
    "#!qiime diversity alpha-group-significance \\\n",
    "  #--i-alpha-diversity mm_150bp_deblur_rig_sepp_noMit_noChl_rar10k_alpha_faithspd.qza \\\n",
    "  #--m-metadata-file mm_metadata_rapid_growth_reduced_categorical.txt \\\n",
    "  #--o-visualization mm_150bp_deblur_rig_sepp_noMit_noChl_rar10k_alpha_faithspd_group_compare.qzv"
   ]
  },
  {
   "cell_type": "markdown",
   "metadata": {},
   "source": [
    "# Perform ordination analyses\n",
    "***"
   ]
  },
  {
   "cell_type": "code",
   "execution_count": 46,
   "metadata": {},
   "outputs": [
    {
     "name": "stdout",
     "output_type": "stream",
     "text": [
      "\u001b[32mSaved DistanceMatrix to: mm_150bp_deblur_sepp_noMit_noChl_rar10k_dist_unifrac.qza\u001b[0m\n",
      "\u001b[32mSaved DistanceMatrix to: mm_150bp_deblur_sepp_noMit_noChl_rar10k_dist_wunifrac.qza\u001b[0m\n"
     ]
    }
   ],
   "source": [
    "!qiime diversity beta-phylogenetic \\\n",
    "  --i-table mm_150bp_deblur_sepp_noMit_noChl_rar10k.qza \\\n",
    "  --i-phylogeny mm_150bp_deblur_insertion_tree.qza \\\n",
    "  --p-metric unweighted_unifrac \\\n",
    "  --o-distance-matrix mm_150bp_deblur_sepp_noMit_noChl_rar10k_dist_unifrac.qza\n",
    "\n",
    "!qiime diversity beta-phylogenetic \\\n",
    "  --i-table mm_150bp_deblur_sepp_noMit_noChl_rar10k.qza \\\n",
    "  --i-phylogeny mm_150bp_deblur_insertion_tree.qza \\\n",
    "  --p-metric weighted_unifrac \\\n",
    "  --o-distance-matrix mm_150bp_deblur_sepp_noMit_noChl_rar10k_dist_wunifrac.qza"
   ]
  },
  {
   "cell_type": "code",
   "execution_count": 47,
   "metadata": {},
   "outputs": [
    {
     "name": "stdout",
     "output_type": "stream",
     "text": [
      "\u001b[32mSaved PCoAResults to: mm_150bp_deblur_sepp_noMit_noChl_rar10k_pcoa_unifrac.qza\u001b[0m\n",
      "\u001b[32mSaved PCoAResults to: mm_150bp_deblur_sepp_noMit_noChl_rar10k_pcoa_wunifrac.qza\u001b[0m\n",
      "\u001b[32mSaved Visualization to: mm_150bp_deblur_sepp_noMit_noChl_rar10k_pcoa_unifrac.qzv\u001b[0m\n",
      "\u001b[32mSaved Visualization to: mm_150bp_deblur_sepp_noMit_noChl_rar10k_pcoa_wunifrac.qzv\u001b[0m\n"
     ]
    }
   ],
   "source": [
    "# May want to update metadata with Air pollution exposures\n",
    "!qiime diversity pcoa \\\n",
    "  --i-distance-matrix mm_150bp_deblur_sepp_noMit_noChl_rar10k_dist_unifrac.qza \\\n",
    "  --o-pcoa mm_150bp_deblur_sepp_noMit_noChl_rar10k_pcoa_unifrac.qza\n",
    "\n",
    "!qiime diversity pcoa \\\n",
    "  --i-distance-matrix mm_150bp_deblur_sepp_noMit_noChl_rar10k_dist_wunifrac.qza \\\n",
    "  --o-pcoa mm_150bp_deblur_sepp_noMit_noChl_rar10k_pcoa_wunifrac.qza\n",
    "\n",
    "!qiime emperor plot \\\n",
    "  --i-pcoa mm_150bp_deblur_sepp_noMit_noChl_rar10k_pcoa_unifrac.qza \\\n",
    "  --m-metadata-file 62060_mapping_file.txt \\\n",
    "  --o-visualization mm_150bp_deblur_sepp_noMit_noChl_rar10k_pcoa_unifrac.qzv\n",
    "\n",
    "!qiime emperor plot \\\n",
    "  --i-pcoa mm_150bp_deblur_sepp_noMit_noChl_rar10k_pcoa_wunifrac.qza \\\n",
    "  --m-metadata-file 62060_mapping_file.txt \\\n",
    "  --o-visualization mm_150bp_deblur_sepp_noMit_noChl_rar10k_pcoa_wunifrac.qzv"
   ]
  },
  {
   "cell_type": "markdown",
   "metadata": {},
   "source": [
    "## Perform Robust-Aitchison Principal Components Analysis (RPCA) using DEICODE, for various sOTU tables detailed below\n",
    "***"
   ]
  },
  {
   "cell_type": "markdown",
   "metadata": {},
   "source": [
    "### Filter samples with fewer than 10,000 reads"
   ]
  },
  {
   "cell_type": "code",
   "execution_count": 48,
   "metadata": {},
   "outputs": [
    {
     "name": "stdout",
     "output_type": "stream",
     "text": [
      "\u001b[32mSaved FeatureTable[Frequency] to: mm_150bp_deblur_sepp_noMit_noChl_min10k.qza\u001b[0m\n",
      "\u001b[32mSaved Visualization to: mm_150bp_deblur_sepp_noMit_noChl_min10k.qzv\u001b[0m\n"
     ]
    }
   ],
   "source": [
    "!qiime feature-table filter-samples \\\n",
    "  --i-table mm_150bp_deblur_sepp_noMit_noChl.qza \\\n",
    "  --p-min-frequency 10000 \\\n",
    "  --o-filtered-table mm_150bp_deblur_sepp_noMit_noChl_min10k.qza\n",
    "\n",
    "!qiime feature-table summarize \\\n",
    "  --i-table mm_150bp_deblur_sepp_noMit_noChl_min10k.qza \\\n",
    "  --o-visualization mm_150bp_deblur_sepp_noMit_noChl_min10k.qzv"
   ]
  },
  {
   "cell_type": "markdown",
   "metadata": {},
   "source": [
    "### Filter singleton and doubleton features"
   ]
  },
  {
   "cell_type": "code",
   "execution_count": 49,
   "metadata": {},
   "outputs": [
    {
     "name": "stdout",
     "output_type": "stream",
     "text": [
      "\u001b[32mSaved FeatureTable[Frequency] to: mm_150bp_deblur_sepp_noMit_noChl_min10k_noDbltns.qza\u001b[0m\n",
      "\u001b[32mSaved Visualization to: mm_150bp_deblur_sepp_noMit_noChl_min10k_noDbltns.qzv\u001b[0m\n"
     ]
    }
   ],
   "source": [
    "!qiime feature-table filter-features \\\n",
    "  --i-table mm_150bp_deblur_sepp_noMit_noChl_min10k.qza \\\n",
    "  --p-min-samples 3 \\\n",
    "  --o-filtered-table mm_150bp_deblur_sepp_noMit_noChl_min10k_noDbltns.qza\n",
    "\n",
    "!qiime feature-table summarize \\\n",
    "  --i-table mm_150bp_deblur_sepp_noMit_noChl_min10k_noDbltns.qza \\\n",
    "  --o-visualization mm_150bp_deblur_sepp_noMit_noChl_min10k_noDbltns.qzv"
   ]
  },
  {
   "cell_type": "code",
   "execution_count": 50,
   "metadata": {},
   "outputs": [
    {
     "name": "stdout",
     "output_type": "stream",
     "text": [
      "\u001b[32mSaved PCoAResults % Properties('biplot') to: mm_150bp_deblur_sepp_noMit_noChl_min10k_noDbltns_pca_rpca.qza\u001b[0m\n",
      "\u001b[32mSaved DistanceMatrix to: mm_150bp_deblur_sepp_noMit_noChl_min10k_noDbltns_dist_rpca.qza\u001b[0m\n"
     ]
    }
   ],
   "source": [
    "!qiime deicode rpca \\\n",
    "  --i-table mm_150bp_deblur_sepp_noMit_noChl_min10k_noDbltns.qza \\\n",
    "  --p-min-feature-count 10 \\\n",
    "  --p-min-sample-count 10 \\\n",
    "  --o-biplot mm_150bp_deblur_sepp_noMit_noChl_min10k_noDbltns_pca_rpca.qza \\\n",
    "  --o-distance-matrix mm_150bp_deblur_sepp_noMit_noChl_min10k_noDbltns_dist_rpca.qza"
   ]
  },
  {
   "cell_type": "code",
   "execution_count": 51,
   "metadata": {},
   "outputs": [
    {
     "name": "stdout",
     "output_type": "stream",
     "text": [
      "\u001b[32mSaved Visualization to: mm_150bp_deblur_sepp_noMit_noChl_min10k_noDbltns_pca_rpca.qzv\u001b[0m\n"
     ]
    }
   ],
   "source": [
    "#May want to update metadata file with AP exposues\n",
    "!qiime emperor biplot \\\n",
    "  --i-biplot mm_150bp_deblur_sepp_noMit_noChl_min10k_noDbltns_pca_rpca.qza \\\n",
    "  --m-sample-metadata-file 62060_mapping_file.txt \\\n",
    "  --m-feature-metadata-file mm_150bp_deblur_reference-hit_seqs_taxonomy_gg.qza \\\n",
    "  --p-number-of-features 10 \\\n",
    "  --o-visualization mm_150bp_deblur_sepp_noMit_noChl_min10k_noDbltns_pca_rpca.qzv"
   ]
  },
  {
   "cell_type": "markdown",
   "metadata": {},
   "source": [
    "## Examples of Runing permdisp and permanova on rapid infant growth groups"
   ]
  },
  {
   "cell_type": "code",
   "execution_count": null,
   "metadata": {},
   "outputs": [],
   "source": [
    "#qiime diversity beta-group-significance \\\n",
    " # --i-distance-matrix mm_150bp_deblur_rig_sepp_noMit_noChl_rar10k_dist_unifrac.qza \\\n",
    "  #--m-metadata-file mm_metadata_rapid_growth_reduced_categorical.txt \\\n",
    "  #--m-metadata-column rapidGrowth \\\n",
    "  #--p-method permdisp \\\n",
    "  #--p-pairwise \\\n",
    "  #--p-permutations 999 \\\n",
    "  #--o-visualization mm_150bp_deblur_rig_sepp_noMit_noChl_rar10k_dist_unifrac_permdisp_rapidgrowth.qzv"
   ]
  },
  {
   "cell_type": "code",
   "execution_count": null,
   "metadata": {},
   "outputs": [],
   "source": [
    "#qiime diversity beta-group-significance \\\n",
    " # --i-distance-matrix mm_150bp_deblur_rig_sepp_noMit_noChl_rar10k_dist_unifrac.qza \\\n",
    "  #--m-metadata-file mm_metadata_rapid_growth_reduced_categorical.txt \\\n",
    "  #--m-metadata-column rapidGrowth \\\n",
    "  #--p-method permanova \\\n",
    "  #--p-pairwise \\\n",
    "  #--p-permutations 999 \\\n",
    "  #--o-visualization mm_150bp_deblur_rig_sepp_noMit_noChl_rar10k_dist_unifrac_permanova_rapidgrowth.qzv"
   ]
  },
  {
   "cell_type": "markdown",
   "metadata": {},
   "source": [
    "## Run SONGBIRD to associate sOTUs with specific metadata groupings\n",
    "### NOTE: Make sure you are running the correct Conda Environment for running SONGBIRD\n",
    "### Dont forget to remove NA from Metadata or Qiime sees as categorical data (do this in xcel)"
   ]
  },
  {
   "cell_type": "code",
   "execution_count": null,
   "metadata": {},
   "outputs": [],
   "source": [
    "# Used these files do sample triming in R (removed blanks, made metadata smaple == seq files samples)\n",
    "# metadata.txt\n",
    "# ddeblur-freq-table-stool-filtered-MM-rarefy10k.txt\n",
    "# Need to move columns right and delete extra col in txt files from R output"
   ]
  },
  {
   "cell_type": "markdown",
   "metadata": {},
   "source": [
    "Model: Exposures"
   ]
  },
  {
   "cell_type": "code",
   "execution_count": 59,
   "metadata": {},
   "outputs": [],
   "source": [
    "# Import trimmed sequence file (blanks removed in R) as biom - INFANTS\n",
    "!biom convert -i mm_seqs_noblank_inf.txt -o mm_seqs_noblank_inf.biom --table-type=\"OTU table\" --to-hdf5\n",
    "!biom convert -i mm_seqs_noblank_inf_1m.txt -o mm_seqs_noblank_inf_1m.biom --table-type=\"OTU table\" --to-hdf5\n",
    "!biom convert -i mm_seqs_noblank_inf_6m.txt -o mm_seqs_noblank_inf_6m.biom --table-type=\"OTU table\" --to-hdf5\n",
    "!biom convert -i mm_seqs_noblank_inf_12m.txt -o mm_seqs_noblank_inf_12m.biom --table-type=\"OTU table\" --to-hdf5"
   ]
  },
  {
   "cell_type": "code",
   "execution_count": 60,
   "metadata": {},
   "outputs": [
    {
     "name": "stdout",
     "output_type": "stream",
     "text": [
      "\u001b[32mImported mm_seqs_noblank_inf.biom as BIOMV210DirFmt to mm_seqs_noblank_inf.qza\u001b[0m\n",
      "\u001b[32mImported mm_seqs_noblank_inf_1m.biom as BIOMV210DirFmt to mm_seqs_noblank_inf_1m.qza\u001b[0m\n",
      "\u001b[32mImported mm_seqs_noblank_inf_6m.biom as BIOMV210DirFmt to mm_seqs_noblank_inf_6m.qza\u001b[0m\n",
      "\u001b[32mImported mm_seqs_noblank_inf_12m.biom as BIOMV210DirFmt to mm_seqs_noblank_inf_12m.qza\u001b[0m\n"
     ]
    }
   ],
   "source": [
    "# Convert imported biom seqs file to .qza - INFANTS\n",
    "!qiime tools import \\\n",
    "--input-path mm_seqs_noblank_inf.biom \\\n",
    "--output-path mm_seqs_noblank_inf.qza \\\n",
    "--type 'FeatureTable[Frequency]' \n",
    "\n",
    "!qiime tools import \\\n",
    "--input-path mm_seqs_noblank_inf_1m.biom \\\n",
    "--output-path mm_seqs_noblank_inf_1m.qza \\\n",
    "--type 'FeatureTable[Frequency]' \n",
    "\n",
    "!qiime tools import \\\n",
    "--input-path mm_seqs_noblank_inf_6m.biom \\\n",
    "--output-path mm_seqs_noblank_inf_6m.qza \\\n",
    "--type 'FeatureTable[Frequency]' \n",
    "\n",
    "!qiime tools import \\\n",
    "--input-path mm_seqs_noblank_inf_12m.biom \\\n",
    "--output-path mm_seqs_noblank_inf_12m.qza \\\n",
    "--type 'FeatureTable[Frequency]' "
   ]
  },
  {
   "cell_type": "code",
   "execution_count": null,
   "metadata": {},
   "outputs": [],
   "source": [
    "# Generate a null model for 6-month infant gut microbiota\n",
    "!qiime songbird multinomial \\\n",
    "--i-table mm_seqs_noblank_inf_6m.qza \\\n",
    "--m-metadata-file mm_meta_added_infant_6m.txt \\\n",
    "--p-formula \"1\" \\\n",
    "--p-epochs 10000 \\\n",
    "--p-differential-prior 0.5 \\\n",
    "--p-summary-interval 1 \\\n",
    "--o-differentials null-diff_6m.qza \\\n",
    "--o-regression-stats null-stats_6m.qza \\\n",
    "--o-regression-biplot null-biplot_6m.qza"
   ]
  },
  {
   "cell_type": "code",
   "execution_count": null,
   "metadata": {},
   "outputs": [],
   "source": []
  },
  {
   "cell_type": "code",
   "execution_count": null,
   "metadata": {},
   "outputs": [],
   "source": []
  },
  {
   "cell_type": "code",
   "execution_count": null,
   "metadata": {},
   "outputs": [],
   "source": []
  },
  {
   "cell_type": "code",
   "execution_count": null,
   "metadata": {},
   "outputs": [],
   "source": []
  },
  {
   "cell_type": "code",
   "execution_count": null,
   "metadata": {},
   "outputs": [],
   "source": []
  },
  {
   "cell_type": "code",
   "execution_count": null,
   "metadata": {},
   "outputs": [],
   "source": []
  },
  {
   "cell_type": "code",
   "execution_count": null,
   "metadata": {},
   "outputs": [],
   "source": []
  },
  {
   "cell_type": "code",
   "execution_count": null,
   "metadata": {},
   "outputs": [],
   "source": []
  },
  {
   "cell_type": "code",
   "execution_count": null,
   "metadata": {},
   "outputs": [],
   "source": []
  },
  {
   "cell_type": "code",
   "execution_count": null,
   "metadata": {},
   "outputs": [],
   "source": []
  },
  {
   "cell_type": "code",
   "execution_count": null,
   "metadata": {},
   "outputs": [],
   "source": [
    "#Exampl\n",
    "#!songbird multinomial \\\n",
    " #  --input-biom mm_150bp_deblur_rig_sepp_noMit_noChl_min10k_noDbltns.biom \\\n",
    " #  --metadata-file mm_metadata_rapid_growth_reduced_categorical.txt \\\n",
    " #  --formula 1 \\\n",
    " #  --epochs 10000 \\\n",
    " #  --differential-prior 0.1 \\\n",
    " #  --training-column trainingStatus \\\n",
    " #  --min-feature-count 3 \\\n",
    " #  --summary-interval 1 \\\n",
    " #  --summary-dir 01_songbird_min10k_noDbltns_null_model"
   ]
  },
  {
   "cell_type": "code",
   "execution_count": 142,
   "metadata": {},
   "outputs": [
    {
     "name": "stdout",
     "output_type": "stream",
     "text": [
      "\u001b[32mSaved FeatureData[AlignedSequence] to: aligned-seqs.qza\u001b[0m\n"
     ]
    }
   ],
   "source": [
    "# Generate tree for diversity measures\n",
    "!qiime alignment mafft \\\n",
    "  --i-sequences deblur-seqs.qza \\\n",
    "  --o-alignment aligned-seqs.qza"
   ]
  },
  {
   "cell_type": "code",
   "execution_count": 144,
   "metadata": {},
   "outputs": [
    {
     "name": "stdout",
     "output_type": "stream",
     "text": [
      "\u001b[32mSaved FeatureData[AlignedSequence] to: masked-aligned-seqs.qza\u001b[0m\n"
     ]
    }
   ],
   "source": [
    "# Next, we mask (or filter) the alignment to remove positions that are highly variable. \n",
    "# These positions are generally considered to add noise to a resulting phylogenetic tree.\n",
    "!qiime alignment mask \\\n",
    "  --i-alignment aligned-seqs.qza \\\n",
    "  --o-masked-alignment masked-aligned-seqs.qza"
   ]
  },
  {
   "cell_type": "code",
   "execution_count": 145,
   "metadata": {},
   "outputs": [
    {
     "name": "stdout",
     "output_type": "stream",
     "text": [
      "\u001b[32mSaved Phylogeny[Unrooted] to: unrooted-tree.qza\u001b[0m\n"
     ]
    }
   ],
   "source": [
    "# Next, we’ll apply FastTree to generate a phylogenetic tree from the masked alignment.\n",
    "!qiime phylogeny fasttree \\\n",
    "  --i-alignment masked-aligned-seqs.qza \\\n",
    "  --o-tree unrooted-tree.qza"
   ]
  },
  {
   "cell_type": "code",
   "execution_count": 146,
   "metadata": {},
   "outputs": [
    {
     "name": "stdout",
     "output_type": "stream",
     "text": [
      "\u001b[32mSaved Phylogeny[Rooted] to: rooted-tree.qza\u001b[0m\n"
     ]
    }
   ],
   "source": [
    "# The FastTree program creates an unrooted tree, so in the final step in this section we apply midpoint \n",
    "# rooting to place the root of the tree at the midpoint of the longest tip-to-tip distance in the unrooted tree.\n",
    "!qiime phylogeny midpoint-root \\\n",
    "  --i-tree unrooted-tree.qza \\\n",
    "  --o-rooted-tree rooted-tree.qza"
   ]
  },
  {
   "cell_type": "code",
   "execution_count": 156,
   "metadata": {
    "collapsed": true,
    "jupyter": {
     "outputs_hidden": true
    }
   },
   "outputs": [
    {
     "name": "stdout",
     "output_type": "stream",
     "text": [
      "\u001b[32mSaved FeatureTable[Frequency] to: core-metrics-results10k/rarefied_table.qza\u001b[0m\n",
      "\u001b[32mSaved SampleData[AlphaDiversity] to: core-metrics-results10k/faith_pd_vector.qza\u001b[0m\n",
      "\u001b[32mSaved SampleData[AlphaDiversity] to: core-metrics-results10k/observed_features_vector.qza\u001b[0m\n",
      "\u001b[32mSaved SampleData[AlphaDiversity] to: core-metrics-results10k/shannon_vector.qza\u001b[0m\n",
      "\u001b[32mSaved SampleData[AlphaDiversity] to: core-metrics-results10k/evenness_vector.qza\u001b[0m\n",
      "\u001b[32mSaved DistanceMatrix to: core-metrics-results10k/unweighted_unifrac_distance_matrix.qza\u001b[0m\n",
      "\u001b[32mSaved DistanceMatrix to: core-metrics-results10k/weighted_unifrac_distance_matrix.qza\u001b[0m\n",
      "\u001b[32mSaved DistanceMatrix to: core-metrics-results10k/jaccard_distance_matrix.qza\u001b[0m\n",
      "\u001b[32mSaved DistanceMatrix to: core-metrics-results10k/bray_curtis_distance_matrix.qza\u001b[0m\n",
      "\u001b[32mSaved PCoAResults to: core-metrics-results10k/unweighted_unifrac_pcoa_results.qza\u001b[0m\n",
      "\u001b[32mSaved PCoAResults to: core-metrics-results10k/weighted_unifrac_pcoa_results.qza\u001b[0m\n",
      "\u001b[32mSaved PCoAResults to: core-metrics-results10k/jaccard_pcoa_results.qza\u001b[0m\n",
      "\u001b[32mSaved PCoAResults to: core-metrics-results10k/bray_curtis_pcoa_results.qza\u001b[0m\n",
      "\u001b[32mSaved Visualization to: core-metrics-results10k/unweighted_unifrac_emperor.qzv\u001b[0m\n",
      "\u001b[32mSaved Visualization to: core-metrics-results10k/weighted_unifrac_emperor.qzv\u001b[0m\n",
      "\u001b[32mSaved Visualization to: core-metrics-results10k/jaccard_emperor.qzv\u001b[0m\n",
      "\u001b[32mSaved Visualization to: core-metrics-results10k/bray_curtis_emperor.qzv\u001b[0m\n"
     ]
    }
   ],
   "source": [
    "# Calculate Core Metric Results using 10k rarification \n",
    "# Input table needs to be a frequency table from deblur (already imported above)\n",
    "# Using updated meta data for moms and infants (all timpoints)!\n",
    "!qiime diversity core-metrics-phylogenetic \\\n",
    "  --i-phylogeny rooted-tree.qza \\\n",
    "  --i-table deblur-freq-table-stool-MM.qza \\\n",
    "  --p-sampling-depth 10000 \\\n",
    "  --m-metadata-file mm_meta_added_mom_infant.txt \\\n",
    "  --output-dir core-metrics-results10k"
   ]
  },
  {
   "cell_type": "code",
   "execution_count": 93,
   "metadata": {
    "collapsed": true,
    "jupyter": {
     "outputs_hidden": true
    }
   },
   "outputs": [
    {
     "name": "stdout",
     "output_type": "stream",
     "text": [
      "WARNING:tensorflow:From /Users/tanya/miniconda3/envs/qiime2-2020.8/lib/python3.6/site-packages/songbird/q2/_method.py:61: The name tf.Session is deprecated. Please use tf.compat.v1.Session instead.\n",
      "\n",
      "2020-12-22 13:47:06.669763: I tensorflow/core/platform/cpu_feature_guard.cc:142] Your CPU supports instructions that this TensorFlow binary was not compiled to use: AVX2 FMA\n",
      "2020-12-22 13:47:06.679663: I tensorflow/compiler/xla/service/service.cc:168] XLA service 0x7fa60ef773c0 initialized for platform Host (this does not guarantee that XLA will be used). Devices:\n",
      "2020-12-22 13:47:06.679695: I tensorflow/compiler/xla/service/service.cc:176]   StreamExecutor device (0): Host, Default Version\n",
      "WARNING:tensorflow:From /Users/tanya/miniconda3/envs/qiime2-2020.8/lib/python3.6/site-packages/songbird/q2/_method.py:62: The name tf.set_random_seed is deprecated. Please use tf.compat.v1.set_random_seed instead.\n",
      "\n",
      "WARNING:tensorflow:From /Users/tanya/miniconda3/envs/qiime2-2020.8/lib/python3.6/site-packages/songbird/multinomial.py:70: multinomial (from tensorflow.python.ops.random_ops) is deprecated and will be removed in a future version.\n",
      "Instructions for updating:\n",
      "Use `tf.random.categorical` instead.\n",
      "WARNING:tensorflow:From /Users/tanya/miniconda3/envs/qiime2-2020.8/lib/python3.6/site-packages/songbird/multinomial.py:81: The name tf.random_normal is deprecated. Please use tf.random.normal instead.\n",
      "\n",
      "WARNING:tensorflow:From /Users/tanya/miniconda3/envs/qiime2-2020.8/lib/python3.6/site-packages/songbird/multinomial.py:86: Normal.__init__ (from tensorflow.python.ops.distributions.normal) is deprecated and will be removed after 2019-01-01.\n",
      "Instructions for updating:\n",
      "The TensorFlow Distributions library has moved to TensorFlow Probability (https://github.com/tensorflow/probability). You should update all references to use `tfp.distributions` instead of `tf.distributions`.\n",
      "WARNING:tensorflow:From /Users/tanya/miniconda3/envs/qiime2-2020.8/lib/python3.6/site-packages/tensorflow_core/python/ops/distributions/normal.py:160: Distribution.__init__ (from tensorflow.python.ops.distributions.distribution) is deprecated and will be removed after 2019-01-01.\n",
      "Instructions for updating:\n",
      "The TensorFlow Distributions library has moved to TensorFlow Probability (https://github.com/tensorflow/probability). You should update all references to use `tfp.distributions` instead of `tf.distributions`.\n",
      "WARNING:tensorflow:From /Users/tanya/miniconda3/envs/qiime2-2020.8/lib/python3.6/site-packages/songbird/multinomial.py:95: Multinomial.__init__ (from tensorflow.python.ops.distributions.multinomial) is deprecated and will be removed after 2019-01-01.\n",
      "Instructions for updating:\n",
      "The TensorFlow Distributions library has moved to TensorFlow Probability (https://github.com/tensorflow/probability). You should update all references to use `tfp.distributions` instead of `tf.distributions`.\n",
      "WARNING:tensorflow:From /Users/tanya/miniconda3/envs/qiime2-2020.8/lib/python3.6/site-packages/songbird/multinomial.py:110: The name tf.summary.scalar is deprecated. Please use tf.compat.v1.summary.scalar instead.\n",
      "\n",
      "WARNING:tensorflow:From /Users/tanya/miniconda3/envs/qiime2-2020.8/lib/python3.6/site-packages/songbird/multinomial.py:116: The name tf.train.AdamOptimizer is deprecated. Please use tf.compat.v1.train.AdamOptimizer instead.\n",
      "\n",
      "WARNING:tensorflow:From /Users/tanya/miniconda3/envs/qiime2-2020.8/lib/python3.6/site-packages/tensorflow_core/python/ops/clip_ops.py:301: where (from tensorflow.python.ops.array_ops) is deprecated and will be removed in a future version.\n",
      "Instructions for updating:\n",
      "Use tf.where in 2.0, which has the same broadcast rule as np.where\n",
      "WARNING:tensorflow:From /Users/tanya/miniconda3/envs/qiime2-2020.8/lib/python3.6/site-packages/songbird/multinomial.py:124: The name tf.summary.histogram is deprecated. Please use tf.compat.v1.summary.histogram instead.\n",
      "\n",
      "WARNING:tensorflow:From /Users/tanya/miniconda3/envs/qiime2-2020.8/lib/python3.6/site-packages/songbird/multinomial.py:125: The name tf.summary.merge_all is deprecated. Please use tf.compat.v1.summary.merge_all instead.\n",
      "\n",
      "WARNING:tensorflow:From /Users/tanya/miniconda3/envs/qiime2-2020.8/lib/python3.6/site-packages/songbird/multinomial.py:131: The name tf.global_variables_initializer is deprecated. Please use tf.compat.v1.global_variables_initializer instead.\n",
      "\n",
      "WARNING:tensorflow:From /Users/tanya/miniconda3/envs/qiime2-2020.8/lib/python3.6/site-packages/songbird/multinomial.py:163: The name tf.train.Saver is deprecated. Please use tf.compat.v1.train.Saver instead.\n",
      "\n",
      "  0%|                                                | 0/190000 [00:00<?, ?it/s]WARNING:tensorflow:From /Users/tanya/miniconda3/envs/qiime2-2020.8/lib/python3.6/site-packages/songbird/multinomial.py:177: The name tf.RunOptions is deprecated. Please use tf.compat.v1.RunOptions instead.\n",
      "\n",
      "WARNING:tensorflow:From /Users/tanya/miniconda3/envs/qiime2-2020.8/lib/python3.6/site-packages/songbird/multinomial.py:179: The name tf.RunMetadata is deprecated. Please use tf.compat.v1.RunMetadata instead.\n",
      "\n",
      "2020-12-22 13:47:06.869426: I tensorflow/core/profiler/lib/profiler_session.cc:205] Profiler session started.\n",
      "  1%|▍                                   | 2350/190000 [00:00<10:56, 285.87it/s]2020-12-22 13:47:07.819650: I tensorflow/core/profiler/lib/profiler_session.cc:205] Profiler session started.\n",
      "  3%|▉                                  | 5310/190000 [00:01<01:18, 2341.76it/s]2020-12-22 13:47:08.819964: I tensorflow/core/profiler/lib/profiler_session.cc:205] Profiler session started.\n",
      "  4%|█▌                                 | 8287/190000 [00:02<01:01, 2932.36it/s]2020-12-22 13:47:09.820028: I tensorflow/core/profiler/lib/profiler_session.cc:205] Profiler session started.\n",
      "  6%|██                                | 11255/190000 [00:03<01:00, 2942.34it/s]2020-12-22 13:47:10.820260: I tensorflow/core/profiler/lib/profiler_session.cc:205] Profiler session started.\n",
      "  7%|██▌                               | 14175/190000 [00:04<01:00, 2912.80it/s]2020-12-22 13:47:11.820322: I tensorflow/core/profiler/lib/profiler_session.cc:205] Profiler session started.\n",
      "  9%|███                               | 17197/190000 [00:05<00:57, 3025.87it/s]2020-12-22 13:47:12.820540: I tensorflow/core/profiler/lib/profiler_session.cc:205] Profiler session started.\n",
      " 11%|███▌                              | 20231/190000 [00:06<00:56, 3011.18it/s]2020-12-22 13:47:13.820648: I tensorflow/core/profiler/lib/profiler_session.cc:205] Profiler session started.\n",
      " 12%|████                              | 22911/190000 [00:07<00:58, 2851.42it/s]2020-12-22 13:47:14.820704: I tensorflow/core/profiler/lib/profiler_session.cc:205] Profiler session started.\n",
      " 14%|████▌                             | 25756/190000 [00:08<00:58, 2821.12it/s]2020-12-22 13:47:15.820868: I tensorflow/core/profiler/lib/profiler_session.cc:205] Profiler session started.\n",
      " 15%|█████                             | 28610/190000 [00:09<00:56, 2862.99it/s]2020-12-22 13:47:16.820911: I tensorflow/core/profiler/lib/profiler_session.cc:205] Profiler session started.\n",
      " 17%|█████▋                            | 31510/190000 [00:10<00:54, 2894.97it/s]2020-12-22 13:47:17.821143: I tensorflow/core/profiler/lib/profiler_session.cc:205] Profiler session started.\n",
      " 18%|██████▏                           | 34462/190000 [00:11<00:53, 2929.03it/s]2020-12-22 13:47:18.821318: I tensorflow/core/profiler/lib/profiler_session.cc:205] Profiler session started.\n",
      " 20%|██████▋                           | 37405/190000 [00:12<00:52, 2881.23it/s]2020-12-22 13:47:19.821585: I tensorflow/core/profiler/lib/profiler_session.cc:205] Profiler session started.\n",
      " 21%|███████▏                          | 40327/190000 [00:13<00:52, 2830.53it/s]2020-12-22 13:47:20.821661: I tensorflow/core/profiler/lib/profiler_session.cc:205] Profiler session started.\n",
      " 23%|███████▋                          | 43162/190000 [00:14<00:52, 2782.34it/s]2020-12-22 13:47:21.822060: I tensorflow/core/profiler/lib/profiler_session.cc:205] Profiler session started.\n",
      " 24%|████████▏                         | 45629/190000 [00:15<00:55, 2613.23it/s]2020-12-22 13:47:22.822436: I tensorflow/core/profiler/lib/profiler_session.cc:205] Profiler session started.\n",
      " 25%|████████▋                         | 48367/190000 [00:16<00:51, 2753.09it/s]2020-12-22 13:47:23.822562: I tensorflow/core/profiler/lib/profiler_session.cc:205] Profiler session started.\n",
      " 27%|█████████▏                        | 51032/190000 [00:17<00:53, 2598.69it/s]2020-12-22 13:47:24.822884: I tensorflow/core/profiler/lib/profiler_session.cc:205] Profiler session started.\n",
      " 28%|█████████▌                        | 53474/190000 [00:18<00:49, 2769.50it/s]2020-12-22 13:47:25.823217: I tensorflow/core/profiler/lib/profiler_session.cc:205] Profiler session started.\n",
      " 30%|██████████                        | 56339/190000 [00:19<00:46, 2857.27it/s]2020-12-22 13:47:26.823383: I tensorflow/core/profiler/lib/profiler_session.cc:205] Profiler session started.\n",
      " 31%|██████████▌                       | 59216/190000 [00:20<00:45, 2887.09it/s]2020-12-22 13:47:27.823675: I tensorflow/core/profiler/lib/profiler_session.cc:205] Profiler session started.\n",
      " 33%|███████████                       | 62095/190000 [00:21<00:44, 2897.93it/s]2020-12-22 13:47:28.823991: I tensorflow/core/profiler/lib/profiler_session.cc:205] Profiler session started.\n",
      " 34%|███████████▋                      | 64990/190000 [00:22<00:43, 2842.20it/s]2020-12-22 13:47:29.824060: I tensorflow/core/profiler/lib/profiler_session.cc:205] Profiler session started.\n",
      " 36%|████████████▏                     | 67865/190000 [00:23<00:43, 2805.18it/s]2020-12-22 13:47:30.824612: I tensorflow/core/profiler/lib/profiler_session.cc:205] Profiler session started.\n",
      " 37%|████████████▋                     | 70711/190000 [00:24<00:42, 2832.38it/s]2020-12-22 13:47:31.824935: I tensorflow/core/profiler/lib/profiler_session.cc:205] Profiler session started.\n",
      " 39%|█████████████▏                    | 73578/190000 [00:25<00:41, 2828.49it/s]2020-12-22 13:47:32.824889: I tensorflow/core/profiler/lib/profiler_session.cc:205] Profiler session started.\n",
      " 40%|█████████████▋                    | 76207/190000 [00:26<00:39, 2914.02it/s]2020-12-22 13:47:33.824870: I tensorflow/core/profiler/lib/profiler_session.cc:205] Profiler session started.\n",
      " 42%|██████████████▏                   | 79087/190000 [00:27<00:38, 2865.11it/s]2020-12-22 13:47:34.824941: I tensorflow/core/profiler/lib/profiler_session.cc:205] Profiler session started.\n",
      " 43%|██████████████▋                   | 81969/190000 [00:28<00:37, 2898.45it/s]2020-12-22 13:47:35.825210: I tensorflow/core/profiler/lib/profiler_session.cc:205] Profiler session started.\n",
      " 45%|███████████████▏                  | 84805/190000 [00:29<00:37, 2795.80it/s]2020-12-22 13:47:36.825412: I tensorflow/core/profiler/lib/profiler_session.cc:205] Profiler session started.\n",
      " 46%|███████████████▋                  | 87648/190000 [00:30<00:36, 2787.52it/s]2020-12-22 13:47:37.825448: I tensorflow/core/profiler/lib/profiler_session.cc:205] Profiler session started.\n",
      " 48%|████████████████▏                 | 90438/190000 [00:31<00:35, 2802.24it/s]2020-12-22 13:47:38.825603: I tensorflow/core/profiler/lib/profiler_session.cc:205] Profiler session started.\n",
      " 49%|████████████████▋                 | 93205/190000 [00:33<00:35, 2718.70it/s]2020-12-22 13:47:39.825642: I tensorflow/core/profiler/lib/profiler_session.cc:205] Profiler session started.\n",
      " 50%|█████████████████▏                | 95733/190000 [00:33<00:34, 2761.85it/s]2020-12-22 13:47:40.825956: I tensorflow/core/profiler/lib/profiler_session.cc:205] Profiler session started.\n",
      " 52%|█████████████████▋                | 98536/190000 [00:34<00:32, 2780.52it/s]2020-12-22 13:47:41.826018: I tensorflow/core/profiler/lib/profiler_session.cc:205] Profiler session started.\n",
      " 53%|█████████████████▌               | 101338/190000 [00:35<00:32, 2761.75it/s]2020-12-22 13:47:42.826189: I tensorflow/core/profiler/lib/profiler_session.cc:205] Profiler session started.\n",
      " 55%|██████████████████               | 104120/190000 [00:36<00:30, 2784.83it/s]2020-12-22 13:47:43.826300: I tensorflow/core/profiler/lib/profiler_session.cc:205] Profiler session started.\n",
      " 56%|██████████████████▌              | 106925/190000 [00:37<00:30, 2760.73it/s]2020-12-22 13:47:44.826639: I tensorflow/core/profiler/lib/profiler_session.cc:205] Profiler session started.\n",
      " 58%|███████████████████              | 109746/190000 [00:38<00:29, 2758.79it/s]2020-12-22 13:47:45.826955: I tensorflow/core/profiler/lib/profiler_session.cc:205] Profiler session started.\n",
      " 59%|███████████████████▌             | 112639/190000 [00:39<00:26, 2867.72it/s]2020-12-22 13:47:46.827249: I tensorflow/core/profiler/lib/profiler_session.cc:205] Profiler session started.\n",
      " 61%|████████████████████             | 115598/190000 [00:40<00:25, 2945.02it/s]2020-12-22 13:47:47.827518: I tensorflow/core/profiler/lib/profiler_session.cc:205] Profiler session started.\n",
      " 62%|████████████████████▌            | 118551/190000 [00:41<00:24, 2921.43it/s]2020-12-22 13:47:48.827707: I tensorflow/core/profiler/lib/profiler_session.cc:205] Profiler session started.\n",
      " 64%|█████████████████████            | 121152/190000 [00:42<00:24, 2839.52it/s]2020-12-22 13:47:49.827835: I tensorflow/core/profiler/lib/profiler_session.cc:205] Profiler session started.\n",
      " 65%|█████████████████████▌           | 124001/190000 [00:43<00:23, 2766.09it/s]2020-12-22 13:47:50.828044: I tensorflow/core/profiler/lib/profiler_session.cc:205] Profiler session started.\n",
      " 67%|██████████████████████           | 126721/190000 [00:44<00:24, 2628.99it/s]2020-12-22 13:47:51.828298: I tensorflow/core/profiler/lib/profiler_session.cc:205] Profiler session started.\n",
      " 68%|██████████████████████▍          | 129359/190000 [00:45<00:23, 2609.57it/s]2020-12-22 13:47:52.828779: I tensorflow/core/profiler/lib/profiler_session.cc:205] Profiler session started.\n",
      " 70%|██████████████████████▉          | 132054/190000 [00:46<00:21, 2756.93it/s]2020-12-22 13:47:53.828544: I tensorflow/core/profiler/lib/profiler_session.cc:205] Profiler session started.\n",
      " 71%|███████████████████████▍         | 134855/190000 [00:47<00:19, 2765.30it/s]2020-12-22 13:47:54.828640: I tensorflow/core/profiler/lib/profiler_session.cc:205] Profiler session started.\n",
      " 72%|███████████████████████▉         | 137664/190000 [00:48<00:18, 2770.01it/s]2020-12-22 13:47:55.829006: I tensorflow/core/profiler/lib/profiler_session.cc:205] Profiler session started.\n",
      " 74%|████████████████████████▎        | 140227/190000 [00:49<00:17, 2800.69it/s]2020-12-22 13:47:56.829006: I tensorflow/core/profiler/lib/profiler_session.cc:205] Profiler session started.\n",
      " 75%|████████████████████████▊        | 143049/190000 [00:50<00:16, 2822.02it/s]2020-12-22 13:47:57.829216: I tensorflow/core/profiler/lib/profiler_session.cc:205] Profiler session started.\n",
      " 77%|█████████████████████████▎       | 145898/190000 [00:51<00:15, 2823.86it/s]2020-12-22 13:47:58.829291: I tensorflow/core/profiler/lib/profiler_session.cc:205] Profiler session started.\n",
      " 78%|█████████████████████████▊       | 148744/190000 [00:52<00:14, 2821.69it/s]2020-12-22 13:47:59.829577: I tensorflow/core/profiler/lib/profiler_session.cc:205] Profiler session started.\n",
      " 80%|██████████████████████████▎      | 151592/190000 [00:53<00:13, 2861.99it/s]2020-12-22 13:48:00.830003: I tensorflow/core/profiler/lib/profiler_session.cc:205] Profiler session started.\n",
      " 81%|██████████████████████████▊      | 154436/190000 [00:54<00:12, 2829.20it/s]2020-12-22 13:48:01.829833: I tensorflow/core/profiler/lib/profiler_session.cc:205] Profiler session started.\n",
      " 83%|███████████████████████████▎     | 157323/190000 [00:55<00:11, 2876.57it/s]2020-12-22 13:48:02.830128: I tensorflow/core/profiler/lib/profiler_session.cc:205] Profiler session started.\n",
      " 84%|███████████████████████████▊     | 160309/190000 [00:56<00:10, 2943.39it/s]2020-12-22 13:48:03.830219: I tensorflow/core/profiler/lib/profiler_session.cc:205] Profiler session started.\n",
      " 86%|████████████████████████████▎    | 163325/190000 [00:57<00:08, 2968.12it/s]2020-12-22 13:48:04.830431: I tensorflow/core/profiler/lib/profiler_session.cc:205] Profiler session started.\n",
      " 88%|████████████████████████████▉    | 166317/190000 [00:59<00:07, 2994.08it/s]2020-12-22 13:48:05.830701: I tensorflow/core/profiler/lib/profiler_session.cc:205] Profiler session started.\n",
      " 89%|█████████████████████████████▍   | 169324/190000 [01:00<00:06, 3012.39it/s]2020-12-22 13:48:06.831027: I tensorflow/core/profiler/lib/profiler_session.cc:205] Profiler session started.\n",
      " 91%|█████████████████████████████▉   | 172033/190000 [01:00<00:06, 2985.42it/s]2020-12-22 13:48:07.831144: I tensorflow/core/profiler/lib/profiler_session.cc:205] Profiler session started.\n",
      " 92%|██████████████████████████████▍  | 175024/190000 [01:01<00:05, 2945.19it/s]2020-12-22 13:48:08.831133: I tensorflow/core/profiler/lib/profiler_session.cc:205] Profiler session started.\n",
      " 94%|██████████████████████████████▉  | 177987/190000 [01:02<00:04, 2949.36it/s]2020-12-22 13:48:09.831432: I tensorflow/core/profiler/lib/profiler_session.cc:205] Profiler session started.\n",
      " 95%|███████████████████████████████▍ | 180989/190000 [01:03<00:02, 3010.21it/s]2020-12-22 13:48:10.831742: I tensorflow/core/profiler/lib/profiler_session.cc:205] Profiler session started.\n",
      " 97%|███████████████████████████████▉ | 183971/190000 [01:04<00:02, 2924.84it/s]2020-12-22 13:48:11.831896: I tensorflow/core/profiler/lib/profiler_session.cc:205] Profiler session started.\n",
      " 98%|████████████████████████████████▍| 186910/190000 [01:05<00:01, 2946.08it/s]2020-12-22 13:48:12.832219: I tensorflow/core/profiler/lib/profiler_session.cc:205] Profiler session started.\n",
      "100%|████████████████████████████████▉| 189897/190000 [01:07<00:00, 2917.04it/s]2020-12-22 13:48:13.832324: I tensorflow/core/profiler/lib/profiler_session.cc:205] Profiler session started.\n",
      "100%|█████████████████████████████████| 190000/190000 [01:07<00:00, 2833.76it/s]\n",
      "\u001b[32mSaved FeatureData[Differential] to: mm_differentials-PM25weighted_6mt.qza\u001b[0m\n",
      "\u001b[32mSaved SampleData[SongbirdStats] to: mm_regression-PM25weighted_6m.qza\u001b[0m\n",
      "\u001b[32mSaved PCoAResults % Properties('biplot') to: mm_biplot-PM25weighted_6m.qza\u001b[0m\n"
     ]
    }
   ],
   "source": [
    "# Simple univariate model\n",
    "# Include type row to deal with NA\n",
    "!qiime songbird multinomial \\\n",
    "--i-table mm_seqs_noblank_inf_6m.qza \\\n",
    "--m-metadata-file mm_meta_added_infant_6m.txt \\\n",
    "--p-formula \"PM25_weighted\" \\\n",
    "--p-epochs 10000 \\\n",
    "--p-differential-prior 0.5 \\\n",
    "--p-summary-interval 1 \\\n",
    "--o-differentials mm_differentials-PM25weighted_6m.qza \\\n",
    "--o-regression-stats mm_regression-PM25weighted_6m.qza \\\n",
    "--o-regression-biplot mm_biplot-PM25weighted_6m.qza\n",
    "\n",
    "# Fully adjusted model\n",
    "!qiime songbird multinomial \\\n",
    "--i-table mm_seqs_noblank_inf_6m.qza \\\n",
    "--m-metadata-file mm_meta_added_infant_6m.txt \\\n",
    "--p-formula \"PM25_weighted+prepreg_bmi_kgm2+breastfeedings_continuous+age_in_days+baby_gender_cat+baby_birthweight_kg+gestational_age_category\" \\\n",
    "--p-epochs 10000 \\\n",
    "--p-differential-prior 0.5 \\\n",
    "--p-summary-interval 1 \\\n",
    "--o-differentials mm_differentials-PM25weighted_6m_preprgBMI_BFcont_age_sex_birthweight_gestage.qza \\\n",
    "--o-regression-stats mm_regression-PM25weighted_6m_preprgBMI_BFcont_age_sex_birthweight_gestage.qza \\\n",
    "--o-regression-biplot mm_biplot-PM25weighted_6m_preprgBMI_BFcont_age_sex_birthweight_gestage.qza\n",
    "\n",
    "# All but gestational age cat\n",
    "!qiime songbird multinomial \\\n",
    "--i-table mm_seqs_noblank_inf_6m.qza \\\n",
    "--m-metadata-file mm_meta_added_infant_6m.txt \\\n",
    "--p-formula \"PM25_weighted+prepreg_bmi_kgm2+breastfeedings_continuous+age_in_days+baby_gender_cat+baby_birthweight_kg\" \\\n",
    "--p-epochs 10000 \\\n",
    "--p-differential-prior 0.5 \\\n",
    "--p-summary-interval 1 \\\n",
    "--o-differentials mm_differentials-PM25weighted_6m_preprgBMI_BFcont_age_sex_birthweight.qza \\\n",
    "--o-regression-stats mm_regression-PM25weighted_6m_preprgBMI_BFcont_age_sex_birthweight.qza \\\n",
    "--o-regression-biplot mm_biplot-PM25weighted_6m_preprgBMI_BFcont_age_sex_birthweight.qza\n",
    "\n",
    "# All but gestational age cat AND age in days\n",
    "!qiime songbird multinomial \\\n",
    "--i-table mm_seqs_noblank_inf_6m.qza \\\n",
    "--m-metadata-file mm_meta_added_infant_6m.txt \\\n",
    "--p-formula \"PM25_weighted+prepreg_bmi_kgm2+breastfeedings_continuous+baby_gender_cat+baby_birthweight_kg\" \\\n",
    "--p-epochs 10000 \\\n",
    "--p-differential-prior 0.5 \\\n",
    "--p-summary-interval 1 \\\n",
    "--o-differentials mm_differentials-PM25weighted_6m_preprgBMI_BFcont_sex_birthweight.qza \\\n",
    "--o-regression-stats mm_regression-PM25weighted_6m_preprgBMI_BFcont_sex_birthweight.qza \\\n",
    "--o-regression-biplot mm_biplot-PM25weighted_6m_preprgBMI_BFcont_sex_birthweight.qza\n",
    "\n",
    "# All but gestational age cat AND sex\n",
    "!qiime songbird multinomial \\\n",
    "--i-table mm_seqs_noblank_inf_6m.qza \\\n",
    "--m-metadata-file mm_meta_added_infant_6m.txt \\\n",
    "--p-formula \"PM25_weighted+prepreg_bmi_kgm2+breastfeedings_continuous+age_in_days+baby_birthweight_kg\" \\\n",
    "--p-epochs 10000 \\\n",
    "--p-differential-prior 0.5 \\\n",
    "--p-summary-interval 1 \\\n",
    "--o-differentials mm_differentials-PM25weighted_6m_preprgBMI_BFcont_age_birthweight.qza \\\n",
    "--o-regression-stats mm_regression-PM25weighted_6m_preprgBMI_BFcont_age_birthweight.qza \\\n",
    "--o-regression-biplot mm_biplot-PM25weighted_6m_preprgBMI_BFcont_age_birthweight.qza\n",
    "\n",
    "# Only BF, Sex, birth weight\n",
    "!qiime songbird multinomial \\\n",
    "--i-table mm_seqs_noblank_inf_6m.qza \\\n",
    "--m-metadata-file mm_meta_added_infant_6m.txt \\\n",
    "--p-formula \"PM25_weighted+baby_birthweight_kg+breastfeedings_continuous+baby_gender_cat\" \\\n",
    "--p-epochs 10000 \\\n",
    "--p-differential-prior 0.5 \\\n",
    "--p-summary-interval 1 \\\n",
    "--o-differentials mm_differentials-PM25weighted_6m_BFcont_sex_birthweight.qza \\\n",
    "--o-regression-stats mm_regression-PM25weighted_6m_BFcont_sex_birthweight.qza \\\n",
    "--o-regression-biplot mm_biplot-PM25weighted_6m_BFcont_sex_birthweight.qza\n",
    "\n",
    "# Only Sex, birth weight\n",
    "!qiime songbird multinomial \\\n",
    "--i-table mm_seqs_noblank_inf_6m.qza \\\n",
    "--m-metadata-file mm_meta_added_infant_6m.txt \\\n",
    "--p-formula \"PM25_weighted+baby_birthweight_kg+baby_gender_cat\" \\\n",
    "--p-epochs 10000 \\\n",
    "--p-differential-prior 0.5 \\\n",
    "--p-summary-interval 1 \\\n",
    "--o-differentials mm_differentials-PM25weighted_6m_sex_birthweight.qza \\\n",
    "--o-regression-stats mm_regression-PM25weighted_6m_sex_birthweight.qza \\\n",
    "--o-regression-biplot mm_biplot-PM25weighted_6m_sex_birthweight.qza\n",
    "\n",
    "# Only Sex, prepreg bmi\n",
    "!qiime songbird multinomial \\\n",
    "--i-table mm_seqs_noblank_inf_6m.qza \\\n",
    "--m-metadata-file mm_meta_added_infant_6m.txt \\\n",
    "--p-formula \"PM25_weighted+prepreg_bmi_kgm2+baby_gender_cat\" \\\n",
    "--p-epochs 10000 \\\n",
    "--p-differential-prior 0.5 \\\n",
    "--p-summary-interval 1 \\\n",
    "--o-differentials mm_differentials-PM25weighted_6m_sex_prepregBMI.qza \\\n",
    "--o-regression-stats mm_regression-PM25weighted_6m_sex_prepregBMI.qza \\\n",
    "--o-regression-biplot mm_biplot-PM25weighted_6m_sex_prepregBMI.qza\n",
    "\n",
    "# PM25 and birthweight\n",
    "!qiime songbird multinomial \\\n",
    "--i-table mm_seqs_noblank_inf_6m.qza \\\n",
    "--m-metadata-file mm_meta_added_infant_6m.txt \\\n",
    "--p-formula \"PM25_weighted+baby_birthweight_kg\" \\\n",
    "--p-epochs 10000 \\\n",
    "--p-differential-prior 0.5 \\\n",
    "--p-summary-interval 1 \\\n",
    "--o-differentials mm_differentials-PM25weighted_6m_birthweight.qza \\\n",
    "--o-regression-stats mm_regression-PM25weighted_6mbirthweight.qza \\\n",
    "--o-regression-biplot mm_biplot-PM25weighted_6mbirthweight.qza\n",
    "\n",
    "# PM25, birthweight, prepregBMI\n",
    "!qiime songbird multinomial \\\n",
    "--i-table mm_seqs_noblank_inf_6m.qza \\\n",
    "--m-metadata-file mm_meta_added_infant_6m.txt \\\n",
    "--p-formula \"PM25_weighted+baby_birthweight_kg+prepreg_bmi_kgm2\" \\\n",
    "--p-epochs 10000 \\\n",
    "--p-differential-prior 0.5 \\\n",
    "--p-summary-interval 1 \\\n",
    "--o-differentials mm_differentials-PM25weighted_6m_birthweight_prepregBMI.qza \\\n",
    "--o-regression-stats mm_regression-PM25weighted_6mbirthweight_prepregBMI.qza \\\n",
    "--o-regression-biplot mm_biplot-PM25weighted_6mbirthweight_prepregBMI.qza\n",
    "\n",
    "# birth weight and prepreg BMI only\n",
    "!qiime songbird multinomial \\\n",
    "--i-table mm_seqs_noblank_inf_6m.qza \\\n",
    "--m-metadata-file mm_meta_added_infant_6m.txt \\\n",
    "--p-formula \"baby_birthweight_kg+prepreg_bmi_kgm2\" \\\n",
    "--p-epochs 10000 \\\n",
    "--p-differential-prior 0.5 \\\n",
    "--p-summary-interval 1 \\\n",
    "--o-differentials mm_differentials-NO_PM25weighted_6m_birthweight_prepregBMI.qza \\\n",
    "--o-regression-stats mm_regression-NO_PM25weighted_6m_birthweight_prepregBMI.qza \\\n",
    "--o-regression-biplot mm_biplot-NO_PM25weighted_6m_birthweight_prepregBMI.qza"
   ]
  },
  {
   "cell_type": "code",
   "execution_count": 120,
   "metadata": {},
   "outputs": [
    {
     "name": "stdout",
     "output_type": "stream",
     "text": [
      "\u001b[32mSaved Visualization to: paired-summary-full-vs-null_6m.qzv\u001b[0m\n",
      "\u001b[32mSaved Visualization to: paired-summary-nogestagecat-vs-null_6m.qzv\u001b[0m\n",
      "\u001b[32mSaved Visualization to: paired-summary-nogestagecat_age-vs-null_6m.qzv\u001b[0m\n",
      "\u001b[32mSaved Visualization to: paired-summary-nogestagecat_sex-vs-null_6m.qzv\u001b[0m\n",
      "\u001b[32mSaved Visualization to: paired-summary-onlyBFSexBirthWeight-vs-null_6m.qzv\u001b[0m\n"
     ]
    }
   ],
   "source": [
    "# Visualize the first model's regression stats *and* the null model's\n",
    "# regression stats\n",
    "!qiime songbird summarize-paired \\\n",
    "--i-regression-stats mm_regression-PM25weighted_6m_preprgBMI_BFcont_age_sex_birthweight_gestage.qza \\\n",
    "--i-baseline-stats null-stats_6m.qza \\\n",
    "--o-visualization paired-summary-full-vs-null_6m.qzv\n",
    "\n",
    "# *** Visualize the all but gestational age cat model's regression stats *and* the null model's\n",
    "# regression stats = Psuedo R2 = 0.08\n",
    "!qiime songbird summarize-paired \\\n",
    "--i-regression-stats mm_regression-PM25weighted_6m_preprgBMI_BFcont_age_sex_birthweight.qza \\\n",
    "--i-baseline-stats null-stats_6m.qza \\\n",
    "--o-visualization paired-summary-nogestagecat-vs-null_6m.qzv\n",
    "\n",
    "# Visualize the all but gestational age cat AND age in days model's regression stats *and* the null model's\n",
    "# regression stats = Psuedo R2 = 0.06\n",
    "!qiime songbird summarize-paired \\\n",
    "--i-regression-stats mm_regression-PM25weighted_6m_preprgBMI_BFcont_sex_birthweight.qza \\\n",
    "--i-baseline-stats null-stats_6m.qza \\\n",
    "--o-visualization paired-summary-nogestagecat_age-vs-null_6m.qzv\n",
    "\n",
    "# Visualize the all but gestational age cat AND SEX in days model's regression stats *and* the null model's\n",
    "# regression stats = Psuedo R2 = 0.06\n",
    "!qiime songbird summarize-paired \\\n",
    "--i-regression-stats mm_regression-PM25weighted_6m_preprgBMI_BFcont_age_birthweight.qza \\\n",
    "--i-baseline-stats null-stats_6m.qza \\\n",
    "--o-visualization paired-summary-nogestagecat_sex-vs-null_6m.qzv\n",
    "\n",
    "# Visualize BF, Sex, birth weight only in days model's regression stats *and* the null model's\n",
    "# regression stats = Psuedo R2 = 0.09 but LOSS is worse\n",
    "!qiime songbird summarize-paired \\\n",
    "--i-regression-stats mm_regression-PM25weighted_6m_BFcont_birthweight.qza \\\n",
    "--i-baseline-stats null-stats_6m.qza \\\n",
    "--o-visualization paired-summary-onlyBFSexBirthWeight-vs-null_6m.qzv\n",
    "\n",
    "# Visualize Sex, birth weight only in days model's regression stats *and* the null model's\n",
    "# regression stats = Psuedo R2 = 0.06 but LOSS is bad\n",
    "!qiime songbird summarize-paired \\\n",
    "--i-regression-stats mm_regression-PM25weighted_6m_sex_birthweight.qza \\\n",
    "--i-baseline-stats null-stats_6m.qza \\\n",
    "--o-visualization paired-summary-onlySexBirthWeight-vs-null_6m.qzv\n",
    "\n",
    "# Visualize Sex, birth weight only in days model's regression stats *and* the null model's\n",
    "# regression stats = Psuedo R2 = 0.07 LOSS in bad\n",
    "!qiime songbird summarize-paired \\\n",
    "--i-regression-stats mm_regression-PM25weighted_6m_sex_prepregBMI.qza \\\n",
    "--i-baseline-stats null-stats_6m.qza \\\n",
    "--o-visualization paired-summary-onlySexPrePregBMI-vs-null_6m.qzv\n",
    "\n",
    "# PM25 only\n",
    "# regression stats\n",
    "!qiime songbird summarize-paired \\\n",
    "--i-regression-stats mm_regression-PM25weighted_6m.qza \\\n",
    "--i-baseline-stats null-stats_6m.qza \\\n",
    "--o-visualization paired-summary-onlyPM25weighted-vs-null_6m.qzv\n",
    "\n",
    "# PM25 and birthweight\n",
    "# regression stats = Psuedo R2 = 0.07 LOSS in bad\n",
    "!qiime songbird summarize-paired \\\n",
    "--i-regression-stats mm_regression-PM25weighted_6mbirthweight.qza \\\n",
    "--i-baseline-stats null-stats_6m.qza \\\n",
    "--o-visualization paired-summary-onlyPM25weighted_birthweight-vs-null_6m.qzv\n",
    "\n",
    "# PM25 and birthweight\n",
    "# regression stats\n",
    "!qiime songbird summarize-paired \\\n",
    "--i-regression-stats mm_regression-PM25weighted_6mbirthweight_prepregBMI.qza \\\n",
    "--i-baseline-stats null-stats_6m.qza \\\n",
    "--o-visualization paired-summary-onlyPM25weighted_birthweight_prepregBMI-vs-null_6m.qzv\n",
    "\n",
    "# NO PM25 and only birthweight and prepreg BMI\n",
    "# regression stats\n",
    "!qiime songbird summarize-paired \\\n",
    "--i-regression-stats mm_regression-NO_PM25weighted_6m_birthweight_prepregBMI.qza \\\n",
    "--i-baseline-stats null-stats_6m.qza \\\n",
    "--o-visualization paired-summary-NOPM25weighted_birthweight_prepregBMI-vs-null_6m.qzv"
   ]
  },
  {
   "cell_type": "code",
   "execution_count": 133,
   "metadata": {},
   "outputs": [
    {
     "name": "stdout",
     "output_type": "stream",
     "text": [
      "\u001b[32mSaved Visualization to: paired-summary-NOPM25weighted_birthweight_prepregBMI-vs-null_6m.qzv\u001b[0m\n"
     ]
    }
   ],
   "source": []
  },
  {
   "cell_type": "code",
   "execution_count": 99,
   "metadata": {},
   "outputs": [
    {
     "name": "stdout",
     "output_type": "stream",
     "text": [
      "\u001b[32mSaved Visualization to: mm_regression-PM25weighted_6m.qzv\u001b[0m\n",
      "\u001b[32mSaved Visualization to: mm_regression-PM25weighted_6m_preprgBMI_BFcont_age_sex_birthweight_gestage.qzv\u001b[0m\n"
     ]
    }
   ],
   "source": [
    "# Output results to qzv to visualize cross validation and Loss\n",
    "#!qiime songbird summarize-single \\\n",
    "#--i-regression-stats mm_regression-PM25weighted_6m.qza \\\n",
    "#--o-visualization mm_regression-PM25weighted_6m.qzv\n",
    "\n",
    "#!qiime songbird summarize-single \\\n",
    "#--i-regression-stats mm_regression-PM25weighted_6m_preprgBMI_BFcont_age_sex_birthweight_gestage.qza \\\n",
    "#--o-visualization mm_regression-PM25weighted_6m_preprgBMI_BFcont_age_sex_birthweight_gestage.qzv"
   ]
  },
  {
   "cell_type": "code",
   "execution_count": 134,
   "metadata": {},
   "outputs": [
    {
     "name": "stdout",
     "output_type": "stream",
     "text": [
      "\u001b[32mSaved Visualization to: qurro-plot-PM25stats_6m_preprgBMI_BFcont_age_sex_birthweight_gestage.qzv\u001b[0m\n"
     ]
    }
   ],
   "source": [
    "# Visualize using qurro - need to verify file for --i-table is correct\n",
    "!qiime qurro differential-plot \\\n",
    "    --i-table mm_seqs_noblank_inf_6m.qza \\\n",
    "    --i-ranks mm_differentials-PM25weighted_6m_preprgBMI_BFcont_age_sex_birthweight_gestage.qza \\\n",
    "    --m-sample-metadata-file mm_meta_added_infant_6m.txt \\\n",
    "    --m-feature-metadata-file deblur-sequences-taxonomy-MM.qza \\\n",
    "    --o-visualization qurro-plot-PM25stats_6m_preprgBMI_BFcont_age_sex_birthweight_gestage.qzv"
   ]
  },
  {
   "cell_type": "code",
   "execution_count": null,
   "metadata": {},
   "outputs": [],
   "source": [
    "# Visulaizing biplot in emperor\n",
    "qiime emperor biplot \\\n",
    "--i-biplot mm_test_seqs_regression-PM24biplot_adjPrePregBMI.qza \\\n",
    "--m-sample-metadata-file mm_meta_added_infant.txt \\\n",
    "--p-ignore-missing-samples \\\n",
    "--p-number-of-features 2 \\\n",
    "--o-visualization emperor-biplot-PM25stats_adjPrePregBMI"
   ]
  },
  {
   "cell_type": "code",
   "execution_count": 135,
   "metadata": {},
   "outputs": [
    {
     "name": "stdout",
     "output_type": "stream",
     "text": [
      "\u001b[32mExported mm_differentials-PM25weighted_6m_preprgBMI_BFcont_age_sex_birthweight_gestage.qza as DifferentialDirectoryFormat to directory mm_differentials-PM25weighted_6m_preprgBMI_BFcont_age_sex_birthweight_gestage\u001b[0m\n"
     ]
    }
   ],
   "source": [
    "# Output differentials from Songbird\n",
    "!qiime tools export \\\n",
    "  --input-path mm_differentials-PM25weighted_6m_preprgBMI_BFcont_age_sex_birthweight_gestage.qza \\\n",
    "  --output-path mm_differentials-PM25weighted_6m_preprgBMI_BFcont_age_sex_birthweight_gestage"
   ]
  },
  {
   "cell_type": "code",
   "execution_count": null,
   "metadata": {},
   "outputs": [],
   "source": [
    "# Can import qza into R directly\n",
    "# install in R\n",
    "# devtools::install_github(\"jbisanz/qiime2R\")\n",
    "# devtools::install_github(\"joey711/biomformat\")\n",
    "# then load the librairies \n",
    "# use read_qza(filename.qza)\n",
    "# can get alpha diversity measures into metadata\n",
    "# observed_features_vector = richess (one Justin is adjusting for in analysis) *sig by rapid growers\n",
    "# Shannon for alpha/eveness\n",
    "# Faiths PD for phylogentically informed metric *sig by rapid growers\n",
    "# Dicode index not part of Qiime - Robust Atichson uses matrix completion step to get rid of zeros\n",
    "# using instead of Attichons or Bray Crutis \n",
    "# Bray Curtis has issues dealing with missingness (can make sig when no pattern at all - kind of like random)"
   ]
  },
  {
   "cell_type": "code",
   "execution_count": null,
   "metadata": {},
   "outputs": [],
   "source": [
    "#Cool! Yes I would definitely try un/weighted UniFrac, and also the robust Aitchison distance included in the QIIME2 deicode package (run 'pip install deicode' in your QIIME2 environment). The robust Aitchison distance is the best thing to use when you don't have a phylogeny - so use it instead of Bray-Curtis. Also, I don't expect much clustering in the ordination based on my previous experience with the complete dataset, however I would urge you to run adonis/permanova on the factor representing the three groups (rapid growers, not, and adults) to see if there is any significance. It will also be worth running permdisp on the same factor/dataset. Happy to jump on a call if you need more info here."
   ]
  },
  {
   "cell_type": "code",
   "execution_count": null,
   "metadata": {},
   "outputs": [],
   "source": []
  }
 ],
 "metadata": {
  "kernelspec": {
   "display_name": "Python 3",
   "language": "python",
   "name": "python3"
  },
  "language_info": {
   "codemirror_mode": {
    "name": "ipython",
    "version": 3
   },
   "file_extension": ".py",
   "mimetype": "text/x-python",
   "name": "python",
   "nbconvert_exporter": "python",
   "pygments_lexer": "ipython3",
   "version": "3.6.10"
  }
 },
 "nbformat": 4,
 "nbformat_minor": 4
}
