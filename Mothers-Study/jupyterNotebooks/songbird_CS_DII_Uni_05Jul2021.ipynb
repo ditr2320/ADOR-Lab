{
 "cells": [
  {
   "cell_type": "code",
   "execution_count": null,
   "metadata": {},
   "outputs": [],
   "source": [
    "!biom convert -i mm_seqs_noblank_mom_1m.txt -o mm_seqs_noblank_mom_1m.biom --table-type=\"OTU table\" --to-hdf5\n",
    "!biom convert -i mm_seqs_noblank_mom_6m.txt -o mm_seqs_noblank_mom_6m.biom --table-type=\"OTU table\" --to-hdf5"
   ]
  },
  {
   "cell_type": "code",
   "execution_count": null,
   "metadata": {},
   "outputs": [],
   "source": [
    "!qiime tools import \\\n",
    "--input-path mm_seqs_noblank_mom_1m.biom \\\n",
    "--output-path mm_seqs_noblank_mom_1m.qza \\\n",
    "--type 'FeatureTable[Frequency]' "
   ]
  },
  {
   "cell_type": "code",
   "execution_count": null,
   "metadata": {},
   "outputs": [],
   "source": [
    "!qiime tools import \\\n",
    "--input-path mm_seqs_noblank_mom_6m.biom \\\n",
    "--output-path mm_seqs_noblank_mom_6m.qza \\\n",
    "--type 'FeatureTable[Frequency]' "
   ]
  },
  {
   "cell_type": "code",
   "execution_count": null,
   "metadata": {},
   "outputs": [],
   "source": [
    "# Simple univariate model 1m \n",
    "!qiime songbird multinomial \\\n",
    "--i-table mm_seqs_noblank_mom_1m.qza \\\n",
    "--m-metadata-file songbirdData_1m.txt \\\n",
    "--p-formula \"DII_Mom\" \\\n",
    "--p-epochs 10000 \\\n",
    "--p-differential-prior 0.5 \\\n",
    "--p-summary-interval 1 \\\n",
    "--o-differentials mm_differentials-DII_1m.qza \\\n",
    "--o-regression-stats mm_regression-DII_1m.qza \\\n",
    "--o-regression-biplot mm_biplot-DII_1m.qza\n",
    "\n",
    "# Simple univariate model 6m \n",
    "!qiime songbird multinomial \\\n",
    "--i-table mm_seqs_noblank_mom_6m.qza \\\n",
    "--m-metadata-file songbirdData_6m.txt \\\n",
    "--p-formula \"DII_Mom\" \\\n",
    "--p-epochs 10000 \\\n",
    "--p-differential-prior 0.5 \\\n",
    "--p-summary-interval 1 \\\n",
    "--o-differentials mm_differentials-DII_6m.qza \\\n",
    "--o-regression-stats mm_regression-DII_6m.qza \\\n",
    "--o-regression-biplot mm_biplot-DII_6m.qza\n",
    "\n",
    "# NULL model 1m \n",
    "!qiime songbird multinomial \\\n",
    "--i-table mm_seqs_noblank_mom_1m.qza \\\n",
    "--m-metadata-file songbirdData_1m.txt \\\n",
    "--p-formula \"1\" \\\n",
    "--p-epochs 10000 \\\n",
    "--p-differential-prior 0.5 \\\n",
    "--p-summary-interval 1 \\\n",
    "--o-differentials null-diff_1m.qza \\\n",
    "--o-regression-stats null-stats_1m.qza \\\n",
    "--o-regression-biplot null-biplot_1m.qza\n",
    "\n",
    "#NULL model 6m \n",
    "!qiime songbird multinomial \\\n",
    "--i-table mm_seqs_noblank_mom_6m.qza \\\n",
    "--m-metadata-file songbirdData_6m.txt \\\n",
    "--p-formula \"1\" \\\n",
    "--p-epochs 10000 \\\n",
    "--p-differential-prior 0.5 \\\n",
    "--p-summary-interval 1 \\\n",
    "--o-differentials null-diff_6m.qza \\\n",
    "--o-regression-stats null-stats_6m.qza \\\n",
    "--o-regression-biplot null-biplot_6m.qza\n"
   ]
  },
  {
   "cell_type": "code",
   "execution_count": null,
   "metadata": {},
   "outputs": [],
   "source": [
    "#1m \n",
    "!qiime songbird summarize-paired \\\n",
    "--i-regression-stats mm_regression-DII_1m.qza \\\n",
    "--i-baseline-stats null-stats_1m.qza \\\n",
    "--o-visualization paired-summary-uni-vs-null_1m.qzv\n",
    "\n",
    "#6m\n",
    "!qiime songbird summarize-paired \\\n",
    "--i-regression-stats mm_regression-DII_6m.qza \\\n",
    "--i-baseline-stats null-stats_6m.qza \\\n",
    "--o-visualization paired-summary-uni-vs-null_6m.qzv"
   ]
  },
  {
   "cell_type": "code",
   "execution_count": 8,
   "metadata": {},
   "outputs": [
    {
     "name": "stdout",
     "output_type": "stream",
     "text": [
      "\u001b[32mSaved Visualization to: mm_regression-DII_1m.qzv\u001b[0m\n",
      "\u001b[32mSaved Visualization to: mm_regression-DII_6m.qzv\u001b[0m\n"
     ]
    }
   ],
   "source": [
    "!qiime songbird summarize-single \\\n",
    "--i-regression-stats mm_regression-DII_1m.qza \\\n",
    "--o-visualization mm_regression-DII_1m.qzv\n",
    "\n",
    "!qiime songbird summarize-single \\\n",
    "--i-regression-stats mm_regression-DII_6m.qza \\\n",
    "--o-visualization mm_regression-DII_6m.qzv"
   ]
  },
  {
   "cell_type": "code",
   "execution_count": 11,
   "metadata": {},
   "outputs": [
    {
     "name": "stdout",
     "output_type": "stream",
     "text": [
      "\u001b[32mSaved Visualization to: qurro-plot-DII_1m.qzv\u001b[0m\n",
      "\u001b[32mSaved Visualization to: qurro-plot-DII_6m.qzv\u001b[0m\n"
     ]
    }
   ],
   "source": [
    "# Visualize using qurro \n",
    "!qiime qurro differential-plot \\\n",
    "    --i-table mm_seqs_noblank_mom_1m.qza \\\n",
    "    --i-ranks mm_differentials-DII_1m.qza \\\n",
    "    --m-sample-metadata-file songbirdData_1m.txt \\\n",
    "    --m-feature-metadata-file deblur-sequences-taxonomy-MM.qza \\\n",
    "    --o-visualization qurro-plot-DII_1m.qzv\n",
    "\n",
    "!qiime qurro differential-plot \\\n",
    "    --i-table mm_seqs_noblank_mom_6m.qza \\\n",
    "    --i-ranks mm_differentials-DII_6m.qza \\\n",
    "    --m-sample-metadata-file songbirdData_6m.txt \\\n",
    "    --m-feature-metadata-file deblur-sequences-taxonomy-MM.qza \\\n",
    "    --o-visualization qurro-plot-DII_6m.qzv"
   ]
  },
  {
   "cell_type": "code",
   "execution_count": 19,
   "metadata": {},
   "outputs": [
    {
     "name": "stdout",
     "output_type": "stream",
     "text": [
      "\u001b[32mSaved Visualization to: emperor-biplot-DII_1m.qzv\u001b[0m\n",
      "\u001b[32mSaved Visualization to: emperor-biplot-DII_6m.qzv\u001b[0m\n"
     ]
    }
   ],
   "source": [
    "# Visulaizing biplot in emperor\n",
    "!qiime emperor biplot \\\n",
    "--i-biplot mm_biplot-DII_1m.qza \\\n",
    "--m-sample-metadata-file deblur-sequences-taxonomy-MM.qza \\\n",
    "--p-ignore-missing-samples \\\n",
    "--p-number-of-features 2 \\\n",
    "--o-visualization emperor-biplot-DII_1m\n",
    "\n",
    "!qiime emperor biplot \\\n",
    "--i-biplot mm_biplot-DII_6m.qza \\\n",
    "--m-sample-metadata-file deblur-sequences-taxonomy-MM.qza \\\n",
    "--p-ignore-missing-samples \\\n",
    "--p-number-of-features 2 \\\n",
    "--o-visualization emperor-biplot-DII_6m"
   ]
  },
  {
   "cell_type": "code",
   "execution_count": 16,
   "metadata": {},
   "outputs": [
    {
     "name": "stdout",
     "output_type": "stream",
     "text": [
      "\u001b[32mExported mm_differentials-DII_1m.qza as DifferentialDirectoryFormat to directory mm_differentials-DII_1m\u001b[0m\n",
      "\u001b[32mExported mm_differentials-DII_6m.qza as DifferentialDirectoryFormat to directory mm_differentials-DII_6m\u001b[0m\n"
     ]
    }
   ],
   "source": [
    "# Output differentials from Songbird\n",
    "!qiime tools export \\\n",
    "  --input-path mm_differentials-DII_1m.qza \\\n",
    "  --output-path mm_differentials-DII_1m\n",
    "!qiime tools export \\\n",
    "  --input-path mm_differentials-DII_6m.qza \\\n",
    "  --output-path mm_differentials-DII_6m"
   ]
  },
  {
   "cell_type": "code",
   "execution_count": null,
   "metadata": {},
   "outputs": [],
   "source": []
  }
 ],
 "metadata": {
  "kernelspec": {
   "display_name": "Python 3",
   "language": "python",
   "name": "python3"
  },
  "language_info": {
   "codemirror_mode": {
    "name": "ipython",
    "version": 3
   },
   "file_extension": ".py",
   "mimetype": "text/x-python",
   "name": "python",
   "nbconvert_exporter": "python",
   "pygments_lexer": "ipython3",
   "version": "3.6.10"
  }
 },
 "nbformat": 4,
 "nbformat_minor": 4
}
