{
 "cells": [
  {
   "cell_type": "code",
   "execution_count": 2,
   "metadata": {},
   "outputs": [
    {
     "name": "stdout",
     "output_type": "stream",
     "text": [
      "\u001b[32mUUID\u001b[0m:        591f0a9d-ba64-4638-bdd9-3674f39803fd\n",
      "\u001b[32mType\u001b[0m:        PCoAResults % Properties('biplot')\n",
      "\u001b[32mData format\u001b[0m: OrdinationDirectoryFormat\n"
     ]
    }
   ],
   "source": [
    "!qiime tools peek mm_biplot-DII_1m.qza"
   ]
  },
  {
   "cell_type": "code",
   "execution_count": null,
   "metadata": {},
   "outputs": [],
   "source": [
    "!qiime tools view emperor-biplot-DII_1m.qzv"
   ]
  },
  {
   "cell_type": "code",
   "execution_count": null,
   "metadata": {
    "collapsed": true,
    "jupyter": {
     "outputs_hidden": true
    }
   },
   "outputs": [
    {
     "name": "stdout",
     "output_type": "stream",
     "text": [
      "Press the 'q' key, Control-C, or Control-D to quit. This view may no longer be accessible or work correctly after quitting."
     ]
    }
   ],
   "source": [
    "!qiime tools view emperor-biplot-DII_6m.qzv"
   ]
  },
  {
   "cell_type": "code",
   "execution_count": null,
   "metadata": {},
   "outputs": [],
   "source": [
    "!qiime tools view mm_regression-DII_1m.qzv"
   ]
  },
  {
   "cell_type": "code",
   "execution_count": null,
   "metadata": {},
   "outputs": [],
   "source": [
    "!qiime tools view mm_regression-DII_6m.qzv"
   ]
  },
  {
   "cell_type": "code",
   "execution_count": null,
   "metadata": {},
   "outputs": [],
   "source": [
    "!qiime tools view qurro-plot-DII_1m.qzv"
   ]
  },
  {
   "cell_type": "code",
   "execution_count": 1,
   "metadata": {},
   "outputs": [
    {
     "name": "stdout",
     "output_type": "stream",
     "text": [
      "\u001b[34mBMI_Uni_CS\u001b[m\u001b[m/\n",
      "\u001b[34mDII_Uni_CS\u001b[m\u001b[m/\n",
      "\u001b[31mMM_songbird_04Jul2021.ipynb\u001b[m\u001b[m*\n",
      "\u001b[31mMothers_Milk_Deblur_Processing_TLA.ipynb\u001b[m\u001b[m*\n",
      "\u001b[31mdeblur-sequences-taxonomy-MM.qza\u001b[m\u001b[m*\n",
      "\u001b[31mmm_seqs_noblank_mom_1m.biom\u001b[m\u001b[m*\n",
      "\u001b[31mmm_seqs_noblank_mom_1m.qza\u001b[m\u001b[m*\n",
      "\u001b[31mmm_seqs_noblank_mom_1m.txt\u001b[m\u001b[m*\n",
      "\u001b[31mmm_seqs_noblank_mom_6m.biom\u001b[m\u001b[m*\n",
      "\u001b[31mmm_seqs_noblank_mom_6m.qza\u001b[m\u001b[m*\n",
      "\u001b[31mmm_seqs_noblank_mom_6m.txt\u001b[m\u001b[m*\n",
      "\u001b[31msongbirdData_1m.txt\u001b[m\u001b[m*\n",
      "\u001b[31msongbirdData_6m.txt\u001b[m\u001b[m*\n",
      "\u001b[31msongbird_CS_BMI_Uni_05Jul2021.ipynb\u001b[m\u001b[m*\n",
      "\u001b[31msongbird_CS_DII_Uni_05Jul2021.ipynb\u001b[m\u001b[m*\n",
      "\u001b[31mvisualization_CS_Uni_05Jul2021.ipynb\u001b[m\u001b[m*\n"
     ]
    }
   ],
   "source": [
    "ls"
   ]
  },
  {
   "cell_type": "code",
   "execution_count": 2,
   "metadata": {},
   "outputs": [
    {
     "name": "stdout",
     "output_type": "stream",
     "text": [
      "/Volumes/ADORLab/__Users/ditr2320/datasets/sb_Uni_CS/BMI_Uni_CS\n"
     ]
    }
   ],
   "source": [
    "cd BMI_Uni_CS"
   ]
  },
  {
   "cell_type": "code",
   "execution_count": 3,
   "metadata": {},
   "outputs": [
    {
     "name": "stdout",
     "output_type": "stream",
     "text": [
      "\u001b[31memperor-biplot-BMI_1m.qzv\u001b[m\u001b[m*             \u001b[31mmm_regression-BMI_6m.qzv\u001b[m\u001b[m*\n",
      "\u001b[31memperor-biplot-BMI_6m.qzv\u001b[m\u001b[m*             \u001b[31mnull-biplot-BMI_1m.qza\u001b[m\u001b[m*\n",
      "\u001b[31mmm_biplot-BMI_1m.qza\u001b[m\u001b[m*                  \u001b[31mnull-biplot-BMI_6m.qza\u001b[m\u001b[m*\n",
      "\u001b[31mmm_biplot-BMI_6m.qza\u001b[m\u001b[m*                  \u001b[31mnull-diff-BMI_1m.qza\u001b[m\u001b[m*\n",
      "\u001b[34mmm_differentials-BMI_1m\u001b[m\u001b[m/               \u001b[31mnull-diff-BMI_6m.qza\u001b[m\u001b[m*\n",
      "\u001b[31mmm_differentials-BMI_1m.qza\u001b[m\u001b[m*           \u001b[31mnull-stats-BMI_1m.qza\u001b[m\u001b[m*\n",
      "\u001b[34mmm_differentials-BMI_6m\u001b[m\u001b[m/               \u001b[31mnull-stats-BMI_6m.qza\u001b[m\u001b[m*\n",
      "\u001b[31mmm_differentials-BMI_6m.qza\u001b[m\u001b[m*           \u001b[31mpaired-summary-uni-vs-null-BMI_1m.qzv\u001b[m\u001b[m*\n",
      "\u001b[31mmm_regression-BMI_1m.qza\u001b[m\u001b[m*              \u001b[31mpaired-summary-uni-vs-null-BMI_6m.qzv\u001b[m\u001b[m*\n",
      "\u001b[31mmm_regression-BMI_1m.qzv\u001b[m\u001b[m*              \u001b[31mqurro-plot-BMI_1m.qzv\u001b[m\u001b[m*\n",
      "\u001b[31mmm_regression-BMI_6m.qza\u001b[m\u001b[m*              \u001b[31mqurro-plot-BMI_6m.qzv\u001b[m\u001b[m*\n"
     ]
    }
   ],
   "source": [
    "ls"
   ]
  },
  {
   "cell_type": "code",
   "execution_count": null,
   "metadata": {},
   "outputs": [
    {
     "name": "stdout",
     "output_type": "stream",
     "text": [
      "Press the 'q' key, Control-C, or Control-D to quit. This view may no longer be accessible or work correctly after quitting."
     ]
    }
   ],
   "source": [
    "!qiime tools view qurro-plot-BMI_1m.qzv"
   ]
  },
  {
   "cell_type": "code",
   "execution_count": null,
   "metadata": {},
   "outputs": [],
   "source": [
    "!qiime tools view paired-summary-uni-vs-null-BMI_1m.qzv"
   ]
  },
  {
   "cell_type": "code",
   "execution_count": null,
   "metadata": {},
   "outputs": [],
   "source": []
  }
 ],
 "metadata": {
  "kernelspec": {
   "display_name": "Python 3",
   "language": "python",
   "name": "python3"
  },
  "language_info": {
   "codemirror_mode": {
    "name": "ipython",
    "version": 3
   },
   "file_extension": ".py",
   "mimetype": "text/x-python",
   "name": "python",
   "nbconvert_exporter": "python",
   "pygments_lexer": "ipython3",
   "version": "3.6.10"
  }
 },
 "nbformat": 4,
 "nbformat_minor": 4
}
